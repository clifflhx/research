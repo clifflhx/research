{
 "cells": [
  {
   "cell_type": "markdown",
   "metadata": {},
   "source": [
    "# Credit_Risk Project -- Haoxun\n",
    "\n",
    "<br>\n",
    "## Background\n",
    "\n",
    "The credit risk data contains information on default payments, demographic factors, history of payment of a sample of 30,000 credit card clients from April 2005- September 2005. The dataset employed a binary variable, default payment (Yes = 1, No = 0), as the response variable and used 24 variables as explanatory variables. In this project, I tried to use selected explanatory variables to predict the default payment next month. \n",
    "\n",
    "First, I started with the descriptive univariate analysis to explore each variable in the dataset and then did bivariate/multivariate analysis to see whether there is any trend related to the default. Next, I made adjustments to some of the variables and created new groups of variables that are correlated with the final output. The final step was to train different models with multiple tuned parameters to find the optimized one.\n",
    "\n",
    "\n",
    "#### Useful data explanation\n",
    "-  Default next month: 1 - yes, 0 - no\n",
    "-  Gender (1 = male; 2 = female). \n",
    "-  Education (1 = graduate school; 2 = university; 3 = high school; 4 = others). \n",
    "-  Marital status (1 = married; 2 = single; 3 = others). \n",
    "\n",
    "\n",
    "\n",
    "<br>\n",
    "## Data Exploration and Planning\n",
    "\n",
    "1. Data exploration/cleaning \n",
    "    -  Exploration: Getting to know the data by conducting descriptive analysis.\n",
    "    -  Data cleaning and pre-processing: Preparing dataset for modeling, including checking missing data and re-categorizing variables.\n",
    "<br><br>\n",
    "2. Model Construction\n",
    "    -  Tree Model, Random Forest, Gradient Boosting with original variables\n",
    "    -  Tree Model, Random Forest, Gradient Boosting with modified variables\n",
    "    -  Logistic regression with selected variables from importance features\n",
    "<br><br>\n",
    "3. Evaluate model performance\n",
    "    -  Normal accuracy (percentage of exact match)\n",
    "    -  f1 score\n",
    "    -  Calculating precision and recall to improve the model sensitivity of predicting default and minimize type II errors (false negative - probability of non-default, while in fact it’s default).  \n",
    "    \n",
    "    \n",
    "#### Note\n",
    "Based on the exploration, I found the outcome variable is imbalance, which the default rate in the sample data is 22%,. Hypothetically, even if I used DummyClassifier in Scikit-learn, a classifier that makes predictions using simple rules, to predict the most frequent label in set for all the points, I would achieve ~77% of accuracy no matter what.\n",
    "\n",
    "Therefore, I decided to deal with the imbalanced dataset by:\n",
    "\n",
    "-  Finding different way to evaluate model performance.\n",
    "-  Adjusting the sample data to be more balanced (upsample the default people or downsample the non-default people).\n",
    "\n",
    "\n",
    "<br><br>\n",
    "## Further Analysis\n",
    "\n",
    "Given the limited time, the current analysis plan is not perfect and there is still space to improve:\n",
    "\n",
    "-  'PAY_1' is indicated as a predominant feature by most of the models. If I had more time, I would analyze how pay period is correlated with the final output and discover if there are any other potential variables.\n",
    "-  Model accuracy can be further increase with proper tuning. If I had more time, I would do parameter tuning (i.e., Grident Search CV method) to improve the model accuracy. "
   ]
  },
  {
   "cell_type": "code",
   "execution_count": 1,
   "metadata": {
    "collapsed": false
   },
   "outputs": [],
   "source": [
    "import pandas as pd\n",
    "import numpy as np\n",
    "import datetime as dt\n",
    "%matplotlib inline\n",
    "import matplotlib.pyplot as plt\n",
    "import warnings\n",
    "warnings.filterwarnings(\"ignore\")"
   ]
  },
  {
   "cell_type": "code",
   "execution_count": 2,
   "metadata": {
    "collapsed": false
   },
   "outputs": [
    {
     "name": "stdout",
     "output_type": "stream",
     "text": [
      "<class 'pandas.core.frame.DataFrame'>\n",
      "RangeIndex: 30000 entries, 0 to 29999\n",
      "Data columns (total 24 columns):\n",
      "LIMIT_BAL                     30000 non-null int64\n",
      "SEX                           30000 non-null int64\n",
      "EDUCATION                     30000 non-null int64\n",
      "MARRIAGE                      30000 non-null int64\n",
      "AGE                           30000 non-null int64\n",
      "PAY_0                         30000 non-null int64\n",
      "PAY_2                         30000 non-null int64\n",
      "PAY_3                         30000 non-null int64\n",
      "PAY_4                         30000 non-null int64\n",
      "PAY_5                         30000 non-null int64\n",
      "PAY_6                         30000 non-null int64\n",
      "BILL_AMT1                     30000 non-null int64\n",
      "BILL_AMT2                     30000 non-null int64\n",
      "BILL_AMT3                     30000 non-null int64\n",
      "BILL_AMT4                     30000 non-null int64\n",
      "BILL_AMT5                     30000 non-null int64\n",
      "BILL_AMT6                     30000 non-null int64\n",
      "PAY_AMT1                      30000 non-null int64\n",
      "PAY_AMT2                      30000 non-null int64\n",
      "PAY_AMT3                      30000 non-null int64\n",
      "PAY_AMT4                      30000 non-null int64\n",
      "PAY_AMT5                      30000 non-null int64\n",
      "PAY_AMT6                      30000 non-null int64\n",
      "default payment next month    30000 non-null int64\n",
      "dtypes: int64(24)\n",
      "memory usage: 5.5 MB\n"
     ]
    }
   ],
   "source": [
    "credit_card=pd.read_excel(\"E:/Importance/FT_Project/credit_defaults.xlsx\",sheetname=\"credit_defaults\",parse_cols=\"B:Y\",skiprows = 1)\n",
    "credit_card.info()"
   ]
  },
  {
   "cell_type": "code",
   "execution_count": 3,
   "metadata": {
    "collapsed": false
   },
   "outputs": [
    {
     "name": "stdout",
     "output_type": "stream",
     "text": [
      "(u'LIMIT_BAL', 81)\n",
      "(u'SEX', 2)\n",
      "(u'EDUCATION', 7)\n",
      "(u'MARRIAGE', 4)\n",
      "(u'AGE', 56)\n",
      "(u'PAY_0', 11)\n",
      "(u'PAY_2', 11)\n",
      "(u'PAY_3', 11)\n",
      "(u'PAY_4', 11)\n",
      "(u'PAY_5', 10)\n",
      "(u'PAY_6', 10)\n",
      "(u'BILL_AMT1', 22723)\n",
      "(u'BILL_AMT2', 22346)\n",
      "(u'BILL_AMT3', 22026)\n",
      "(u'BILL_AMT4', 21548)\n",
      "(u'BILL_AMT5', 21010)\n",
      "(u'BILL_AMT6', 20604)\n",
      "(u'PAY_AMT1', 7943)\n",
      "(u'PAY_AMT2', 7899)\n",
      "(u'PAY_AMT3', 7518)\n",
      "(u'PAY_AMT4', 6937)\n",
      "(u'PAY_AMT5', 6897)\n",
      "(u'PAY_AMT6', 6939)\n",
      "(u'default payment next month', 2)\n"
     ]
    }
   ],
   "source": [
    "for col in credit_card.columns:\n",
    "    print (col, credit_card[col].nunique())"
   ]
  },
  {
   "cell_type": "markdown",
   "metadata": {},
   "source": [
    "<br><br><br>\n",
    "### Data Cleaning\n",
    "\n",
    "I started with organizing variables to be better fit to the model. By checking the unique count for each column, I found the counts for 'EDUCATION', 'MARRIAGE' and 'PAY_0' were not consistent with what described in the second tab of the input spreadsheet. I made some adjustments to standardize the data format. \n",
    "\n",
    "There is no missing value in this dataset.\n",
    "\n",
    "Based on the quantile analysis, some of the subjects had extremely high limit balance, bill amount or payment amount. I did not consider them as outliers, instead, I kept them in the data set to make sure the model takes them into account. \n"
   ]
  },
  {
   "cell_type": "code",
   "execution_count": 4,
   "metadata": {
    "collapsed": false
   },
   "outputs": [
    {
     "name": "stdout",
     "output_type": "stream",
     "text": [
      "2    14030\n",
      "1    10585\n",
      "3     4917\n",
      "5      280\n",
      "4      123\n",
      "6       51\n",
      "0       14\n",
      "Name: EDUCATION, dtype: int64 \n",
      "\n",
      "2    15964\n",
      "1    13659\n",
      "3      323\n",
      "0       54\n",
      "Name: MARRIAGE, dtype: int64 \n",
      "\n",
      " 0    14737\n",
      "-1     5686\n",
      " 1     3688\n",
      "-2     2759\n",
      " 2     2667\n",
      " 3      322\n",
      " 4       76\n",
      " 5       26\n",
      " 8       19\n",
      " 6       11\n",
      " 7        9\n",
      "Name: PAY_1, dtype: int64\n",
      "\n",
      "After modifications:\n",
      "\n",
      "2    14030\n",
      "1    10585\n",
      "3     4917\n",
      "4      468\n",
      "Name: EDUCATION, dtype: int64 \n",
      "\n",
      "2    15964\n",
      "1    13659\n",
      "3      377\n",
      "Name: MARRIAGE, dtype: int64 \n",
      "\n",
      "-1    23182\n",
      " 1     3688\n",
      " 2     2667\n",
      " 3      322\n",
      " 4       76\n",
      " 5       26\n",
      " 8       19\n",
      " 6       11\n",
      " 7        9\n",
      "Name: PAY_1, dtype: int64\n"
     ]
    }
   ],
   "source": [
    "credit_card = credit_card.rename(columns = {'default payment next month':'def','PAY_0':'PAY_1'})\n",
    "print credit_card.EDUCATION.value_counts(),'\\n'\n",
    "print credit_card.MARRIAGE.value_counts(),'\\n'\n",
    "print credit_card.PAY_1.value_counts()\n",
    "\n",
    "credit_card.loc[(credit_card.EDUCATION==5)|(credit_card.EDUCATION==6)|(credit_card.EDUCATION==0),'EDUCATION'] = 4\n",
    "credit_card.loc[credit_card.MARRIAGE == 0,'MARRIAGE'] = 3\n",
    "credit_card.loc[(credit_card.PAY_1==-2)|(credit_card.PAY_1==0),'PAY_1'] = -1\n",
    "credit_card.loc[(credit_card.PAY_2==-2)|(credit_card.PAY_2==0),'PAY_2'] = -1\n",
    "credit_card.loc[(credit_card.PAY_3==-2)|(credit_card.PAY_3==0),'PAY_3'] = -1\n",
    "credit_card.loc[(credit_card.PAY_4==-2)|(credit_card.PAY_4==0),'PAY_4'] = -1\n",
    "credit_card.loc[(credit_card.PAY_5==-2)|(credit_card.PAY_5==0),'PAY_5'] = -1\n",
    "credit_card.loc[(credit_card.PAY_6==-2)|(credit_card.PAY_6==0),'PAY_6'] = -1\n",
    "\n",
    "print '\\nAfter modifications:\\n'\n",
    "print credit_card.EDUCATION.value_counts(),'\\n'\n",
    "print credit_card.MARRIAGE.value_counts(),'\\n'\n",
    "print credit_card.PAY_1.value_counts()\n"
   ]
  },
  {
   "cell_type": "markdown",
   "metadata": {},
   "source": [
    "<br><br>\n",
    "Looking at the general statistics of each feature, I can see that some of people have extremely “high limit balance”, “bill amount” and “payment amount”, which should not be treated as outliers and should be included in our model.  \n",
    "\n",
    "For the “bill amount”, the minimum amount is negative. It means people paid more than they owed in those periods and thus left some credits in the card.\n"
   ]
  },
  {
   "cell_type": "code",
   "execution_count": 5,
   "metadata": {
    "collapsed": false,
    "scrolled": true
   },
   "outputs": [
    {
     "data": {
      "text/html": [
       "<div>\n",
       "<table border=\"1\" class=\"dataframe\">\n",
       "  <thead>\n",
       "    <tr style=\"text-align: right;\">\n",
       "      <th></th>\n",
       "      <th>AGE</th>\n",
       "      <th>PAY_1</th>\n",
       "      <th>PAY_2</th>\n",
       "      <th>PAY_3</th>\n",
       "      <th>PAY_4</th>\n",
       "      <th>PAY_5</th>\n",
       "      <th>PAY_6</th>\n",
       "    </tr>\n",
       "  </thead>\n",
       "  <tbody>\n",
       "    <tr>\n",
       "      <th>count</th>\n",
       "      <td>30000.000000</td>\n",
       "      <td>30000.000000</td>\n",
       "      <td>30000.000000</td>\n",
       "      <td>30000.000000</td>\n",
       "      <td>30000.000000</td>\n",
       "      <td>30000.000000</td>\n",
       "      <td>30000.000000</td>\n",
       "    </tr>\n",
       "    <tr>\n",
       "      <th>mean</th>\n",
       "      <td>35.485500</td>\n",
       "      <td>-0.415967</td>\n",
       "      <td>-0.532033</td>\n",
       "      <td>-0.555500</td>\n",
       "      <td>-0.624233</td>\n",
       "      <td>-0.679567</td>\n",
       "      <td>-0.670800</td>\n",
       "    </tr>\n",
       "    <tr>\n",
       "      <th>std</th>\n",
       "      <td>9.217904</td>\n",
       "      <td>1.142591</td>\n",
       "      <td>1.146393</td>\n",
       "      <td>1.126275</td>\n",
       "      <td>1.067522</td>\n",
       "      <td>1.001726</td>\n",
       "      <td>1.005283</td>\n",
       "    </tr>\n",
       "    <tr>\n",
       "      <th>min</th>\n",
       "      <td>21.000000</td>\n",
       "      <td>-1.000000</td>\n",
       "      <td>-1.000000</td>\n",
       "      <td>-1.000000</td>\n",
       "      <td>-1.000000</td>\n",
       "      <td>-1.000000</td>\n",
       "      <td>-1.000000</td>\n",
       "    </tr>\n",
       "    <tr>\n",
       "      <th>25%</th>\n",
       "      <td>28.000000</td>\n",
       "      <td>-1.000000</td>\n",
       "      <td>-1.000000</td>\n",
       "      <td>-1.000000</td>\n",
       "      <td>-1.000000</td>\n",
       "      <td>-1.000000</td>\n",
       "      <td>-1.000000</td>\n",
       "    </tr>\n",
       "    <tr>\n",
       "      <th>50%</th>\n",
       "      <td>34.000000</td>\n",
       "      <td>-1.000000</td>\n",
       "      <td>-1.000000</td>\n",
       "      <td>-1.000000</td>\n",
       "      <td>-1.000000</td>\n",
       "      <td>-1.000000</td>\n",
       "      <td>-1.000000</td>\n",
       "    </tr>\n",
       "    <tr>\n",
       "      <th>75%</th>\n",
       "      <td>41.000000</td>\n",
       "      <td>-1.000000</td>\n",
       "      <td>-1.000000</td>\n",
       "      <td>-1.000000</td>\n",
       "      <td>-1.000000</td>\n",
       "      <td>-1.000000</td>\n",
       "      <td>-1.000000</td>\n",
       "    </tr>\n",
       "    <tr>\n",
       "      <th>max</th>\n",
       "      <td>79.000000</td>\n",
       "      <td>8.000000</td>\n",
       "      <td>8.000000</td>\n",
       "      <td>8.000000</td>\n",
       "      <td>8.000000</td>\n",
       "      <td>8.000000</td>\n",
       "      <td>8.000000</td>\n",
       "    </tr>\n",
       "  </tbody>\n",
       "</table>\n",
       "</div>"
      ],
      "text/plain": [
       "                AGE         PAY_1         PAY_2         PAY_3         PAY_4  \\\n",
       "count  30000.000000  30000.000000  30000.000000  30000.000000  30000.000000   \n",
       "mean      35.485500     -0.415967     -0.532033     -0.555500     -0.624233   \n",
       "std        9.217904      1.142591      1.146393      1.126275      1.067522   \n",
       "min       21.000000     -1.000000     -1.000000     -1.000000     -1.000000   \n",
       "25%       28.000000     -1.000000     -1.000000     -1.000000     -1.000000   \n",
       "50%       34.000000     -1.000000     -1.000000     -1.000000     -1.000000   \n",
       "75%       41.000000     -1.000000     -1.000000     -1.000000     -1.000000   \n",
       "max       79.000000      8.000000      8.000000      8.000000      8.000000   \n",
       "\n",
       "              PAY_5         PAY_6  \n",
       "count  30000.000000  30000.000000  \n",
       "mean      -0.679567     -0.670800  \n",
       "std        1.001726      1.005283  \n",
       "min       -1.000000     -1.000000  \n",
       "25%       -1.000000     -1.000000  \n",
       "50%       -1.000000     -1.000000  \n",
       "75%       -1.000000     -1.000000  \n",
       "max        8.000000      8.000000  "
      ]
     },
     "execution_count": 5,
     "metadata": {},
     "output_type": "execute_result"
    }
   ],
   "source": [
    "credit_card[['AGE','PAY_1','PAY_2','PAY_3','PAY_4','PAY_5','PAY_6']].describe()"
   ]
  },
  {
   "cell_type": "code",
   "execution_count": 6,
   "metadata": {
    "collapsed": false
   },
   "outputs": [
    {
     "data": {
      "text/html": [
       "<div>\n",
       "<table border=\"1\" class=\"dataframe\">\n",
       "  <thead>\n",
       "    <tr style=\"text-align: right;\">\n",
       "      <th></th>\n",
       "      <th>LIMIT_BAL</th>\n",
       "      <th>BILL_AMT1</th>\n",
       "      <th>BILL_AMT2</th>\n",
       "      <th>BILL_AMT3</th>\n",
       "      <th>BILL_AMT4</th>\n",
       "      <th>BILL_AMT5</th>\n",
       "      <th>BILL_AMT6</th>\n",
       "    </tr>\n",
       "  </thead>\n",
       "  <tbody>\n",
       "    <tr>\n",
       "      <th>count</th>\n",
       "      <td>30000.000000</td>\n",
       "      <td>30000.000000</td>\n",
       "      <td>30000.000000</td>\n",
       "      <td>3.000000e+04</td>\n",
       "      <td>30000.000000</td>\n",
       "      <td>30000.000000</td>\n",
       "      <td>30000.000000</td>\n",
       "    </tr>\n",
       "    <tr>\n",
       "      <th>mean</th>\n",
       "      <td>167484.322667</td>\n",
       "      <td>51223.330900</td>\n",
       "      <td>49179.075167</td>\n",
       "      <td>4.701315e+04</td>\n",
       "      <td>43262.948967</td>\n",
       "      <td>40311.400967</td>\n",
       "      <td>38871.760400</td>\n",
       "    </tr>\n",
       "    <tr>\n",
       "      <th>std</th>\n",
       "      <td>129747.661567</td>\n",
       "      <td>73635.860576</td>\n",
       "      <td>71173.768783</td>\n",
       "      <td>6.934939e+04</td>\n",
       "      <td>64332.856134</td>\n",
       "      <td>60797.155770</td>\n",
       "      <td>59554.107537</td>\n",
       "    </tr>\n",
       "    <tr>\n",
       "      <th>min</th>\n",
       "      <td>10000.000000</td>\n",
       "      <td>-165580.000000</td>\n",
       "      <td>-69777.000000</td>\n",
       "      <td>-1.572640e+05</td>\n",
       "      <td>-170000.000000</td>\n",
       "      <td>-81334.000000</td>\n",
       "      <td>-339603.000000</td>\n",
       "    </tr>\n",
       "    <tr>\n",
       "      <th>25%</th>\n",
       "      <td>50000.000000</td>\n",
       "      <td>3558.750000</td>\n",
       "      <td>2984.750000</td>\n",
       "      <td>2.666250e+03</td>\n",
       "      <td>2326.750000</td>\n",
       "      <td>1763.000000</td>\n",
       "      <td>1256.000000</td>\n",
       "    </tr>\n",
       "    <tr>\n",
       "      <th>50%</th>\n",
       "      <td>140000.000000</td>\n",
       "      <td>22381.500000</td>\n",
       "      <td>21200.000000</td>\n",
       "      <td>2.008850e+04</td>\n",
       "      <td>19052.000000</td>\n",
       "      <td>18104.500000</td>\n",
       "      <td>17071.000000</td>\n",
       "    </tr>\n",
       "    <tr>\n",
       "      <th>75%</th>\n",
       "      <td>240000.000000</td>\n",
       "      <td>67091.000000</td>\n",
       "      <td>64006.250000</td>\n",
       "      <td>6.016475e+04</td>\n",
       "      <td>54506.000000</td>\n",
       "      <td>50190.500000</td>\n",
       "      <td>49198.250000</td>\n",
       "    </tr>\n",
       "    <tr>\n",
       "      <th>max</th>\n",
       "      <td>1000000.000000</td>\n",
       "      <td>964511.000000</td>\n",
       "      <td>983931.000000</td>\n",
       "      <td>1.664089e+06</td>\n",
       "      <td>891586.000000</td>\n",
       "      <td>927171.000000</td>\n",
       "      <td>961664.000000</td>\n",
       "    </tr>\n",
       "  </tbody>\n",
       "</table>\n",
       "</div>"
      ],
      "text/plain": [
       "            LIMIT_BAL      BILL_AMT1      BILL_AMT2     BILL_AMT3  \\\n",
       "count    30000.000000   30000.000000   30000.000000  3.000000e+04   \n",
       "mean    167484.322667   51223.330900   49179.075167  4.701315e+04   \n",
       "std     129747.661567   73635.860576   71173.768783  6.934939e+04   \n",
       "min      10000.000000 -165580.000000  -69777.000000 -1.572640e+05   \n",
       "25%      50000.000000    3558.750000    2984.750000  2.666250e+03   \n",
       "50%     140000.000000   22381.500000   21200.000000  2.008850e+04   \n",
       "75%     240000.000000   67091.000000   64006.250000  6.016475e+04   \n",
       "max    1000000.000000  964511.000000  983931.000000  1.664089e+06   \n",
       "\n",
       "           BILL_AMT4      BILL_AMT5      BILL_AMT6  \n",
       "count   30000.000000   30000.000000   30000.000000  \n",
       "mean    43262.948967   40311.400967   38871.760400  \n",
       "std     64332.856134   60797.155770   59554.107537  \n",
       "min   -170000.000000  -81334.000000 -339603.000000  \n",
       "25%      2326.750000    1763.000000    1256.000000  \n",
       "50%     19052.000000   18104.500000   17071.000000  \n",
       "75%     54506.000000   50190.500000   49198.250000  \n",
       "max    891586.000000  927171.000000  961664.000000  "
      ]
     },
     "execution_count": 6,
     "metadata": {},
     "output_type": "execute_result"
    }
   ],
   "source": [
    "credit_card[['LIMIT_BAL','BILL_AMT1','BILL_AMT2','BILL_AMT3','BILL_AMT4','BILL_AMT5','BILL_AMT6']].describe()"
   ]
  },
  {
   "cell_type": "code",
   "execution_count": 7,
   "metadata": {
    "collapsed": false
   },
   "outputs": [
    {
     "data": {
      "text/html": [
       "<div>\n",
       "<table border=\"1\" class=\"dataframe\">\n",
       "  <thead>\n",
       "    <tr style=\"text-align: right;\">\n",
       "      <th></th>\n",
       "      <th>PAY_AMT1</th>\n",
       "      <th>PAY_AMT2</th>\n",
       "      <th>PAY_AMT3</th>\n",
       "      <th>PAY_AMT4</th>\n",
       "      <th>PAY_AMT5</th>\n",
       "      <th>PAY_AMT6</th>\n",
       "    </tr>\n",
       "  </thead>\n",
       "  <tbody>\n",
       "    <tr>\n",
       "      <th>count</th>\n",
       "      <td>30000.000000</td>\n",
       "      <td>3.000000e+04</td>\n",
       "      <td>30000.00000</td>\n",
       "      <td>30000.000000</td>\n",
       "      <td>30000.000000</td>\n",
       "      <td>30000.000000</td>\n",
       "    </tr>\n",
       "    <tr>\n",
       "      <th>mean</th>\n",
       "      <td>5663.580500</td>\n",
       "      <td>5.921163e+03</td>\n",
       "      <td>5225.68150</td>\n",
       "      <td>4826.076867</td>\n",
       "      <td>4799.387633</td>\n",
       "      <td>5215.502567</td>\n",
       "    </tr>\n",
       "    <tr>\n",
       "      <th>std</th>\n",
       "      <td>16563.280354</td>\n",
       "      <td>2.304087e+04</td>\n",
       "      <td>17606.96147</td>\n",
       "      <td>15666.159744</td>\n",
       "      <td>15278.305679</td>\n",
       "      <td>17777.465775</td>\n",
       "    </tr>\n",
       "    <tr>\n",
       "      <th>min</th>\n",
       "      <td>0.000000</td>\n",
       "      <td>0.000000e+00</td>\n",
       "      <td>0.00000</td>\n",
       "      <td>0.000000</td>\n",
       "      <td>0.000000</td>\n",
       "      <td>0.000000</td>\n",
       "    </tr>\n",
       "    <tr>\n",
       "      <th>25%</th>\n",
       "      <td>1000.000000</td>\n",
       "      <td>8.330000e+02</td>\n",
       "      <td>390.00000</td>\n",
       "      <td>296.000000</td>\n",
       "      <td>252.500000</td>\n",
       "      <td>117.750000</td>\n",
       "    </tr>\n",
       "    <tr>\n",
       "      <th>50%</th>\n",
       "      <td>2100.000000</td>\n",
       "      <td>2.009000e+03</td>\n",
       "      <td>1800.00000</td>\n",
       "      <td>1500.000000</td>\n",
       "      <td>1500.000000</td>\n",
       "      <td>1500.000000</td>\n",
       "    </tr>\n",
       "    <tr>\n",
       "      <th>75%</th>\n",
       "      <td>5006.000000</td>\n",
       "      <td>5.000000e+03</td>\n",
       "      <td>4505.00000</td>\n",
       "      <td>4013.250000</td>\n",
       "      <td>4031.500000</td>\n",
       "      <td>4000.000000</td>\n",
       "    </tr>\n",
       "    <tr>\n",
       "      <th>max</th>\n",
       "      <td>873552.000000</td>\n",
       "      <td>1.684259e+06</td>\n",
       "      <td>896040.00000</td>\n",
       "      <td>621000.000000</td>\n",
       "      <td>426529.000000</td>\n",
       "      <td>528666.000000</td>\n",
       "    </tr>\n",
       "  </tbody>\n",
       "</table>\n",
       "</div>"
      ],
      "text/plain": [
       "            PAY_AMT1      PAY_AMT2      PAY_AMT3       PAY_AMT4  \\\n",
       "count   30000.000000  3.000000e+04   30000.00000   30000.000000   \n",
       "mean     5663.580500  5.921163e+03    5225.68150    4826.076867   \n",
       "std     16563.280354  2.304087e+04   17606.96147   15666.159744   \n",
       "min         0.000000  0.000000e+00       0.00000       0.000000   \n",
       "25%      1000.000000  8.330000e+02     390.00000     296.000000   \n",
       "50%      2100.000000  2.009000e+03    1800.00000    1500.000000   \n",
       "75%      5006.000000  5.000000e+03    4505.00000    4013.250000   \n",
       "max    873552.000000  1.684259e+06  896040.00000  621000.000000   \n",
       "\n",
       "            PAY_AMT5       PAY_AMT6  \n",
       "count   30000.000000   30000.000000  \n",
       "mean     4799.387633    5215.502567  \n",
       "std     15278.305679   17777.465775  \n",
       "min         0.000000       0.000000  \n",
       "25%       252.500000     117.750000  \n",
       "50%      1500.000000    1500.000000  \n",
       "75%      4031.500000    4000.000000  \n",
       "max    426529.000000  528666.000000  "
      ]
     },
     "execution_count": 7,
     "metadata": {},
     "output_type": "execute_result"
    }
   ],
   "source": [
    "credit_card[['PAY_AMT1','PAY_AMT2','PAY_AMT3','PAY_AMT4','PAY_AMT5','PAY_AMT6']].describe()"
   ]
  },
  {
   "cell_type": "markdown",
   "metadata": {},
   "source": [
    "<br><br>\n",
    "### I changed AGE to be a categorical variable.\n",
    "\n",
    "I changed AGE from continuous variable to categorical variable by categorizing AGE into some meaningful buckets. My cutting rational was based on the common life stage of a person (i.e., students without income are likely to be <= 24 yrs old). \n",
    "\n",
    "I also made some adjustments (slightly alter the cutting age) to make sure there were enough data points in each bucket. \n",
    "\n",
    "\n"
   ]
  },
  {
   "cell_type": "code",
   "execution_count": 8,
   "metadata": {
    "collapsed": false
   },
   "outputs": [
    {
     "data": {
      "text/plain": [
       "<matplotlib.axes._subplots.AxesSubplot at 0xdc58240>"
      ]
     },
     "execution_count": 8,
     "metadata": {},
     "output_type": "execute_result"
    },
    {
     "data": {
      "image/png": "[encoded data removed]",
      "text/plain": [
       "<matplotlib.figure.Figure at 0xdc59f98>"
      ]
     },
     "metadata": {},
     "output_type": "display_data"
    }
   ],
   "source": [
    "credit_card['AGE'].hist(bins=20)"
   ]
  },
  {
   "cell_type": "code",
   "execution_count": 9,
   "metadata": {
    "collapsed": false
   },
   "outputs": [
    {
     "name": "stdout",
     "output_type": "stream",
     "text": [
      "('the age cut will be ', [20, 25, 30, 40, 50, 81])\n"
     ]
    },
    {
     "data": {
      "text/plain": [
       "3    10713\n",
       "2     7142\n",
       "4     6005\n",
       "1     3871\n",
       "5     2269\n",
       "Name: age_cut, dtype: int64"
      ]
     },
     "execution_count": 9,
     "metadata": {},
     "output_type": "execute_result"
    }
   ],
   "source": [
    "age_dist = [20,25,30,40,50,81] #['student','young','adult','experienced','senior']\n",
    "cat = [1,2,3,4,5]\n",
    "print('the age cut will be ',age_dist)\n",
    "credit_card['age_cut'] = pd.cut(credit_card.AGE,age_dist,labels=cat)\n",
    "credit_card['age_cut'] = credit_card['age_cut'].astype(int)\n",
    "credit_card['age_cut'].value_counts()"
   ]
  },
  {
   "cell_type": "markdown",
   "metadata": {},
   "source": [
    "<br><br><br>\n",
    "### Data Exploration and Pre-Processing\n",
    "\n",
    "After cleaning the dataset, I started to test which variables are highly correlated with the default. First, I tried those categorical features such as SEX, MARRIGE, AGE and EDUCATION. \n",
    "\n",
    "The overall probability of default is around 0.22. \n",
    "The data indicates that:\n",
    "  -  Male are more likely to default than female. \n",
    "  -  Single is least likely to default. \n",
    "  -  Higher education level will lead to lower default probability. \n",
    "  -  Student and seniors are more likely to default.\n",
    "\n",
    "\n",
    "Beyond the discussed variables above, I also realized there are some uncertainties in the results.  Although the data indicates a married person is more likely to default than a single person, I am not sure whether it is truly caused by the marital status or it is because we have higher percentage of males in married group than that in single group. Therefore, I constructed another variable to combine SEX and Marriage to find the true contributes to the default. \n",
    "\n",
    "Based on the analysis I did below, I found: \n",
    "-\tMale is more likely to default if he is married or divorced(other)\n",
    "-\tThe default rate is lower for female regardless of her marital status. \n",
    "-\tDivorced male are most likely to default but their group is very small in our sample. Most of the default were contributed by married male. \n",
    "\n",
    "\n",
    "For education and age, the data indicates SEX doesn't have obvious impact on both of them, so it is not necessary to combine them. "
   ]
  },
  {
   "cell_type": "code",
   "execution_count": 10,
   "metadata": {
    "collapsed": false
   },
   "outputs": [
    {
     "name": "stdout",
     "output_type": "stream",
     "text": [
      "0.2212\n"
     ]
    },
    {
     "data": {
      "text/plain": [
       "<matplotlib.axes._subplots.AxesSubplot at 0xbd03630>"
      ]
     },
     "execution_count": 10,
     "metadata": {},
     "output_type": "execute_result"
    },
    {
     "data": {
      "image/png": "[encoded data removed]",
      "text/plain": [
       "<matplotlib.figure.Figure at 0xde6dbe0>"
      ]
     },
     "metadata": {},
     "output_type": "display_data"
    }
   ],
   "source": [
    "print(credit_card['def'].mean())\n",
    "fig = plt.figure()\n",
    "fig.suptitle('Default Count')\n",
    "credit_card['def'].value_counts().plot(kind='bar')"
   ]
  },
  {
   "cell_type": "code",
   "execution_count": 11,
   "metadata": {
    "collapsed": false
   },
   "outputs": [
    {
     "name": "stdout",
     "output_type": "stream",
     "text": [
      "SEX\n",
      "1    0.241672\n",
      "2    0.207763\n",
      "Name: def, dtype: float64\n",
      "MARRIAGE\n",
      "1    0.234717\n",
      "2    0.209283\n",
      "3    0.236074\n",
      "Name: def, dtype: float64\n",
      "EDUCATION\n",
      "1    0.192348\n",
      "2    0.237349\n",
      "3    0.251576\n",
      "4    0.070513\n",
      "Name: def, dtype: float64\n",
      "age_cut\n",
      "1    0.266598\n",
      "2    0.201484\n",
      "3    0.204331\n",
      "4    0.232973\n",
      "5    0.254297\n",
      "Name: def, dtype: float64\n"
     ]
    }
   ],
   "source": [
    "print(credit_card.groupby('SEX')['def'].mean())\n",
    "print(credit_card.groupby('MARRIAGE')['def'].mean())\n",
    "print(credit_card.groupby('EDUCATION')['def'].mean())\n",
    "print(credit_card.groupby('age_cut')['def'].mean())"
   ]
  },
  {
   "cell_type": "code",
   "execution_count": 12,
   "metadata": {
    "collapsed": false
   },
   "outputs": [
    {
     "data": {
      "text/plain": [
       "<matplotlib.axes._subplots.AxesSubplot at 0xe0eb7f0>"
      ]
     },
     "execution_count": 12,
     "metadata": {},
     "output_type": "execute_result"
    },
    {
     "data": {
      "image/png": "[encoded data removed]",
      "text/plain": [
       "<matplotlib.figure.Figure at 0xe1f1cf8>"
      ]
     },
     "metadata": {},
     "output_type": "display_data"
    }
   ],
   "source": [
    "credit_card.groupby(['SEX','def']).size().unstack().plot(kind='bar',stacked=True)"
   ]
  },
  {
   "cell_type": "code",
   "execution_count": 13,
   "metadata": {
    "collapsed": false
   },
   "outputs": [
    {
     "name": "stdout",
     "output_type": "stream",
     "text": [
      "MARRIAGE         1         2         3\n",
      "SEX                                   \n",
      "1         0.259345  0.226614  0.289655\n",
      "2         0.219625  0.197216  0.202586 \n",
      "\n",
      "MARRIAGE     1     2    3\n",
      "SEX                      \n",
      "1         5190  6553  145\n",
      "2         8469  9411  232 \n",
      "\n",
      "EDUCATION         1         2         3         4\n",
      "SEX                                              \n",
      "1          0.208085  0.262002  0.273869  0.082353\n",
      "2          0.181351  0.222043  0.236420  0.063758 \n",
      "\n",
      "age_cut         1         2         3         4         5\n",
      "SEX                                                      \n",
      "1        0.292704  0.213672  0.232180  0.250483  0.272810\n",
      "2        0.255358  0.194177  0.185197  0.219719  0.236999 \n",
      "\n",
      "          def          \n",
      "        count      mean\n",
      "SEX_mar                \n",
      "1        5190  0.259345\n",
      "2        6553  0.226614\n",
      "3         145  0.289655\n",
      "4        8469  0.219625\n",
      "5        9411  0.197216\n",
      "6         232  0.202586\n"
     ]
    }
   ],
   "source": [
    "print credit_card.groupby(['SEX','MARRIAGE'])['def'].mean().unstack(),'\\n'\n",
    "print credit_card.groupby(['SEX','MARRIAGE'])['def'].size().unstack(),'\\n'\n",
    "print credit_card.groupby(['SEX','EDUCATION'])['def'].mean().unstack(),'\\n'\n",
    "print credit_card.groupby(['SEX','age_cut'])['def'].mean().unstack(),'\\n'\n",
    "credit_card['SEX_mar'] = 0\n",
    "credit_card.loc[((credit_card.SEX == 1) & (credit_card.MARRIAGE == 1)),'SEX_mar'] = 1\n",
    "credit_card.loc[((credit_card.SEX == 1) & (credit_card.MARRIAGE == 2)),'SEX_mar'] = 2\n",
    "credit_card.loc[((credit_card.SEX == 1) & (credit_card.MARRIAGE == 3)),'SEX_mar'] = 3\n",
    "credit_card.loc[((credit_card.SEX == 2) & (credit_card.MARRIAGE == 1)),'SEX_mar'] = 4\n",
    "credit_card.loc[((credit_card.SEX == 2) & (credit_card.MARRIAGE == 2)),'SEX_mar'] = 5\n",
    "credit_card.loc[((credit_card.SEX == 2) & (credit_card.MARRIAGE == 3)),'SEX_mar'] = 6\n",
    "print credit_card.groupby('SEX_mar').agg({'def':['count','mean']})"
   ]
  },
  {
   "cell_type": "markdown",
   "metadata": {},
   "source": [
    "<br><br>\n",
    "### Moving forward to the next column -  limit balance \n",
    "\n",
    "According to the histogram of limit balance, most people have limit balance under $800,000. After stratifying the default by limit balance, I found that people with lower limit balance is more likely to default. \n",
    "\n",
    "Then, I tried explore whether the default is related to the bill amount. The actual value of bill amount varied a lot. I assumed the richer people have higher limit balance and thus are more likely to spend more. To standardize people's payment, I used percentage amount (Bill / Limit Balance) to see whether there is any trend related to default.\n",
    "\n",
    "The data indicates that people who spend higher percentage of their limit balance are more likely to default.\n"
   ]
  },
  {
   "cell_type": "code",
   "execution_count": 14,
   "metadata": {
    "collapsed": false
   },
   "outputs": [
    {
     "name": "stdout",
     "output_type": "stream",
     "text": [
      "count      30000.000000\n",
      "mean      167484.322667\n",
      "std       129747.661567\n",
      "min        10000.000000\n",
      "25%        50000.000000\n",
      "50%       140000.000000\n",
      "75%       240000.000000\n",
      "max      1000000.000000\n",
      "Name: LIMIT_BAL, dtype: float64\n"
     ]
    },
    {
     "data": {
      "text/plain": [
       "<matplotlib.axes._subplots.AxesSubplot at 0xe175320>"
      ]
     },
     "execution_count": 14,
     "metadata": {},
     "output_type": "execute_result"
    },
    {
     "data": {
      "image/png": "[encoded data removed]",
      "text/plain": [
       "<matplotlib.figure.Figure at 0xe17f358>"
      ]
     },
     "metadata": {},
     "output_type": "display_data"
    }
   ],
   "source": [
    "print(credit_card['LIMIT_BAL'].describe())\n",
    "fig = plt.figure()\n",
    "fig.suptitle('LIMIT_BAL')\n",
    "credit_card['LIMIT_BAL'].hist(bins=20)"
   ]
  },
  {
   "cell_type": "code",
   "execution_count": 15,
   "metadata": {
    "collapsed": false
   },
   "outputs": [
    {
     "data": {
      "text/html": [
       "<div>\n",
       "<table border=\"1\" class=\"dataframe\">\n",
       "  <thead>\n",
       "    <tr style=\"text-align: right;\">\n",
       "      <th></th>\n",
       "      <th>LIMIT_BAL</th>\n",
       "      <th>SEX</th>\n",
       "      <th>EDUCATION</th>\n",
       "      <th>MARRIAGE</th>\n",
       "      <th>AGE</th>\n",
       "      <th>PAY_1</th>\n",
       "      <th>PAY_2</th>\n",
       "      <th>PAY_3</th>\n",
       "      <th>PAY_4</th>\n",
       "      <th>PAY_5</th>\n",
       "      <th>...</th>\n",
       "      <th>BILL_AMT6</th>\n",
       "      <th>PAY_AMT1</th>\n",
       "      <th>PAY_AMT2</th>\n",
       "      <th>PAY_AMT3</th>\n",
       "      <th>PAY_AMT4</th>\n",
       "      <th>PAY_AMT5</th>\n",
       "      <th>PAY_AMT6</th>\n",
       "      <th>def</th>\n",
       "      <th>age_cut</th>\n",
       "      <th>SEX_mar</th>\n",
       "    </tr>\n",
       "  </thead>\n",
       "  <tbody>\n",
       "    <tr>\n",
       "      <th>2197</th>\n",
       "      <td>1000000</td>\n",
       "      <td>2</td>\n",
       "      <td>1</td>\n",
       "      <td>1</td>\n",
       "      <td>47</td>\n",
       "      <td>-1</td>\n",
       "      <td>-1</td>\n",
       "      <td>-1</td>\n",
       "      <td>-1</td>\n",
       "      <td>-1</td>\n",
       "      <td>...</td>\n",
       "      <td>961664</td>\n",
       "      <td>50784</td>\n",
       "      <td>50723</td>\n",
       "      <td>896040</td>\n",
       "      <td>50000</td>\n",
       "      <td>50000</td>\n",
       "      <td>50256</td>\n",
       "      <td>0</td>\n",
       "      <td>4</td>\n",
       "      <td>4</td>\n",
       "    </tr>\n",
       "    <tr>\n",
       "      <th>14919</th>\n",
       "      <td>800000</td>\n",
       "      <td>1</td>\n",
       "      <td>2</td>\n",
       "      <td>1</td>\n",
       "      <td>53</td>\n",
       "      <td>-1</td>\n",
       "      <td>-1</td>\n",
       "      <td>-1</td>\n",
       "      <td>-1</td>\n",
       "      <td>-1</td>\n",
       "      <td>...</td>\n",
       "      <td>9339</td>\n",
       "      <td>11145</td>\n",
       "      <td>64657</td>\n",
       "      <td>131</td>\n",
       "      <td>247</td>\n",
       "      <td>9366</td>\n",
       "      <td>63482</td>\n",
       "      <td>0</td>\n",
       "      <td>5</td>\n",
       "      <td>1</td>\n",
       "    </tr>\n",
       "    <tr>\n",
       "      <th>18006</th>\n",
       "      <td>800000</td>\n",
       "      <td>1</td>\n",
       "      <td>1</td>\n",
       "      <td>2</td>\n",
       "      <td>46</td>\n",
       "      <td>-1</td>\n",
       "      <td>-1</td>\n",
       "      <td>-1</td>\n",
       "      <td>-1</td>\n",
       "      <td>-1</td>\n",
       "      <td>...</td>\n",
       "      <td>3175</td>\n",
       "      <td>4644</td>\n",
       "      <td>3832</td>\n",
       "      <td>6219</td>\n",
       "      <td>1961</td>\n",
       "      <td>3183</td>\n",
       "      <td>27201</td>\n",
       "      <td>0</td>\n",
       "      <td>4</td>\n",
       "      <td>2</td>\n",
       "    </tr>\n",
       "  </tbody>\n",
       "</table>\n",
       "<p>3 rows × 26 columns</p>\n",
       "</div>"
      ],
      "text/plain": [
       "       LIMIT_BAL  SEX  EDUCATION  MARRIAGE  AGE  PAY_1  PAY_2  PAY_3  PAY_4  \\\n",
       "2197     1000000    2          1         1   47     -1     -1     -1     -1   \n",
       "14919     800000    1          2         1   53     -1     -1     -1     -1   \n",
       "18006     800000    1          1         2   46     -1     -1     -1     -1   \n",
       "\n",
       "       PAY_5   ...     BILL_AMT6  PAY_AMT1  PAY_AMT2  PAY_AMT3  PAY_AMT4  \\\n",
       "2197      -1   ...        961664     50784     50723    896040     50000   \n",
       "14919     -1   ...          9339     11145     64657       131       247   \n",
       "18006     -1   ...          3175      4644      3832      6219      1961   \n",
       "\n",
       "       PAY_AMT5  PAY_AMT6  def  age_cut  SEX_mar  \n",
       "2197      50000     50256    0        4        4  \n",
       "14919      9366     63482    0        5        1  \n",
       "18006      3183     27201    0        4        2  \n",
       "\n",
       "[3 rows x 26 columns]"
      ]
     },
     "execution_count": 15,
     "metadata": {},
     "output_type": "execute_result"
    }
   ],
   "source": [
    "credit_card[credit_card['LIMIT_BAL']>= 800000]"
   ]
  },
  {
   "cell_type": "code",
   "execution_count": 16,
   "metadata": {
    "collapsed": false
   },
   "outputs": [
    {
     "data": {
      "text/plain": [
       "<matplotlib.axes._subplots.AxesSubplot at 0xeb7a1d0>"
      ]
     },
     "execution_count": 16,
     "metadata": {},
     "output_type": "execute_result"
    },
    {
     "data": {
      "image/png": "[encoded data removed]",
      "text/plain": [
       "<matplotlib.figure.Figure at 0xe9b9cf8>"
      ]
     },
     "metadata": {},
     "output_type": "display_data"
    }
   ],
   "source": [
    "credit_card.boxplot(column='LIMIT_BAL',by='def')"
   ]
  },
  {
   "cell_type": "code",
   "execution_count": 17,
   "metadata": {
    "collapsed": false
   },
   "outputs": [
    {
     "data": {
      "image/png": "[encoded data removed]",
      "text/plain": [
       "<matplotlib.figure.Figure at 0xe9c6390>"
      ]
     },
     "metadata": {},
     "output_type": "display_data"
    }
   ],
   "source": [
    "fig = plt.figure()\n",
    "fig.set_size_inches([12,6])\n",
    "ax = fig.add_subplot(1,2,1)\n",
    "ax.set_title('def=0')\n",
    "credit_card[credit_card['def']==0]['LIMIT_BAL'].hist(bins=20)\n",
    "fig.tight_layout() \n",
    "ax = fig.add_subplot(1,2,2)\n",
    "ax.set_title('def=1')\n",
    "credit_card[credit_card['def']==1]['LIMIT_BAL'].hist(bins=20)\n",
    "fig.tight_layout() "
   ]
  },
  {
   "cell_type": "code",
   "execution_count": 18,
   "metadata": {
    "collapsed": false
   },
   "outputs": [
    {
     "data": {
      "text/plain": [
       "array([[<matplotlib.axes._subplots.AxesSubplot object at 0x000000000F1B2898>,\n",
       "        <matplotlib.axes._subplots.AxesSubplot object at 0x000000000D65D2B0>],\n",
       "       [<matplotlib.axes._subplots.AxesSubplot object at 0x000000000C618A20>,\n",
       "        <matplotlib.axes._subplots.AxesSubplot object at 0x000000000D451780>],\n",
       "       [<matplotlib.axes._subplots.AxesSubplot object at 0x000000000CCC3E80>,\n",
       "        <matplotlib.axes._subplots.AxesSubplot object at 0x000000000D94E860>]], dtype=object)"
      ]
     },
     "execution_count": 18,
     "metadata": {},
     "output_type": "execute_result"
    },
    {
     "data": {
      "image/png": "[encoded data removed]",
      "text/plain": [
       "<matplotlib.figure.Figure at 0xe9c6da0>"
      ]
     },
     "metadata": {},
     "output_type": "display_data"
    }
   ],
   "source": [
    "for i in range(6):\n",
    "    credit_card['billPer'+str(i+1)] = credit_card['BILL_AMT'+str(i+1)]/credit_card['LIMIT_BAL']\n",
    "credit_card.boxplot(column=['billPer1','billPer2','billPer3','billPer4','billPer5','billPer6'],by='def',figsize=(8,10))"
   ]
  },
  {
   "cell_type": "markdown",
   "metadata": {},
   "source": [
    "<br><br>\n",
    "### Next,\n",
    "\n",
    "I took a closer look at pay_time, payment and bill amount to see if there is any abnormality. I think the default rate may be highly related to the pay time and the balance at each period after payment. \n",
    "\n",
    "-  PAY_1 - PAY_6 indicates the repayment status. I first looked at these columns to see whether longer period of delay leads to higher default probability.\n",
    "    - Each period has 9 different repayment status\n",
    "    - I combined some of them with similar default probability to make sample larger in each group set \n",
    "<br><br>\n",
    "-  Defined variables 'Remaining Balance' in each period as (Bill Amount - Payment) / Balance Limit. \n",
    "    - I divided Balance Limit to standardize the balance since people have different consumption levels, which are partially reflected by the limit of balance.\n",
    "    - People with more remaining balance are more likely to default\n"
   ]
  },
  {
   "cell_type": "code",
   "execution_count": 19,
   "metadata": {
    "collapsed": false
   },
   "outputs": [],
   "source": [
    "def draw_histogram(tmp,Nbin):\n",
    "    name = [tmp+'1',tmp+'2',tmp+'3',tmp+'4',tmp+'5',tmp+'6']\n",
    "    fig = plt.figure()\n",
    "    fig.set_size_inches([9,6])\n",
    "    for i in range(6):\n",
    "        ax = fig.add_subplot(2,3,i+1)\n",
    "        ax.set_title(name[i])\n",
    "        credit_card[name[i]].hist(bins=Nbin)\n",
    "        fig.tight_layout() "
   ]
  },
  {
   "cell_type": "code",
   "execution_count": 20,
   "metadata": {
    "collapsed": false
   },
   "outputs": [
    {
     "data": {
      "image/png": "[encoded data removed]",
      "text/plain": [
       "<matplotlib.figure.Figure at 0xf445e80>"
      ]
     },
     "metadata": {},
     "output_type": "display_data"
    }
   ],
   "source": [
    "draw_histogram('PAY_',20)"
   ]
  },
  {
   "cell_type": "code",
   "execution_count": 21,
   "metadata": {
    "collapsed": false
   },
   "outputs": [
    {
     "data": {
      "image/png": "[encoded data removed]",
      "text/plain": [
       "<matplotlib.figure.Figure at 0xe292c88>"
      ]
     },
     "metadata": {},
     "output_type": "display_data"
    }
   ],
   "source": [
    "draw_histogram('BILL_AMT',20)"
   ]
  },
  {
   "cell_type": "code",
   "execution_count": 22,
   "metadata": {
    "collapsed": false
   },
   "outputs": [
    {
     "data": {
      "image/png": "[encoded data removed]",
      "text/plain": [
       "<matplotlib.figure.Figure at 0xd5ae550>"
      ]
     },
     "metadata": {},
     "output_type": "display_data"
    }
   ],
   "source": [
    "draw_histogram('PAY_AMT',20)"
   ]
  },
  {
   "cell_type": "code",
   "execution_count": 23,
   "metadata": {
    "collapsed": false
   },
   "outputs": [
    {
     "name": "stdout",
     "output_type": "stream",
     "text": [
      "         def          \n",
      "       count      mean\n",
      "PAY_1                 \n",
      "-1     23182  0.138340\n",
      " 1      3688  0.339479\n",
      " 2      2667  0.691414\n",
      " 3       322  0.757764\n",
      " 4        76  0.684211\n",
      " 5        26  0.500000\n",
      " 6        11  0.545455\n",
      " 7         9  0.777778\n",
      " 8        19  0.578947\n"
     ]
    },
    {
     "data": {
      "text/html": [
       "<div>\n",
       "<table border=\"1\" class=\"dataframe\">\n",
       "  <thead>\n",
       "    <tr>\n",
       "      <th></th>\n",
       "      <th colspan=\"2\" halign=\"left\">def</th>\n",
       "    </tr>\n",
       "    <tr>\n",
       "      <th></th>\n",
       "      <th>count</th>\n",
       "      <th>mean</th>\n",
       "    </tr>\n",
       "    <tr>\n",
       "      <th>PAYs_1</th>\n",
       "      <th></th>\n",
       "      <th></th>\n",
       "    </tr>\n",
       "  </thead>\n",
       "  <tbody>\n",
       "    <tr>\n",
       "      <th>0</th>\n",
       "      <td>23182</td>\n",
       "      <td>0.138340</td>\n",
       "    </tr>\n",
       "    <tr>\n",
       "      <th>1</th>\n",
       "      <td>3688</td>\n",
       "      <td>0.339479</td>\n",
       "    </tr>\n",
       "    <tr>\n",
       "      <th>2</th>\n",
       "      <td>3130</td>\n",
       "      <td>0.695527</td>\n",
       "    </tr>\n",
       "  </tbody>\n",
       "</table>\n",
       "</div>"
      ],
      "text/plain": [
       "          def          \n",
       "        count      mean\n",
       "PAYs_1                 \n",
       "0       23182  0.138340\n",
       "1        3688  0.339479\n",
       "2        3130  0.695527"
      ]
     },
     "execution_count": 23,
     "metadata": {},
     "output_type": "execute_result"
    }
   ],
   "source": [
    "print (credit_card.groupby('PAY_1').agg({'def':['count','mean']}))\n",
    "credit_card['PAYs_1'] = credit_card['PAY_1']\n",
    "credit_card.loc[credit_card['PAYs_1']<1,'PAYs_1'] = 0\n",
    "credit_card.loc[credit_card['PAYs_1']>=2,'PAYs_1'] = 2\n",
    "credit_card.groupby('PAYs_1').agg({'def':['count','mean']})"
   ]
  },
  {
   "cell_type": "code",
   "execution_count": 24,
   "metadata": {
    "collapsed": false
   },
   "outputs": [
    {
     "name": "stdout",
     "output_type": "stream",
     "text": [
      "         def          \n",
      "       count      mean\n",
      "PAY_2                 \n",
      "-1     25562  0.162742\n",
      " 1        28  0.178571\n",
      " 2      3927  0.556150\n",
      " 3       326  0.616564\n",
      " 4        99  0.505051\n",
      " 5        25  0.600000\n",
      " 6        12  0.750000\n",
      " 7        20  0.600000\n",
      " 8         1  0.000000\n"
     ]
    },
    {
     "data": {
      "text/html": [
       "<div>\n",
       "<table border=\"1\" class=\"dataframe\">\n",
       "  <thead>\n",
       "    <tr>\n",
       "      <th></th>\n",
       "      <th colspan=\"2\" halign=\"left\">def</th>\n",
       "    </tr>\n",
       "    <tr>\n",
       "      <th></th>\n",
       "      <th>count</th>\n",
       "      <th>mean</th>\n",
       "    </tr>\n",
       "    <tr>\n",
       "      <th>PAYs_2</th>\n",
       "      <th></th>\n",
       "      <th></th>\n",
       "    </tr>\n",
       "  </thead>\n",
       "  <tbody>\n",
       "    <tr>\n",
       "      <th>0</th>\n",
       "      <td>25590</td>\n",
       "      <td>0.162759</td>\n",
       "    </tr>\n",
       "    <tr>\n",
       "      <th>1</th>\n",
       "      <td>4410</td>\n",
       "      <td>0.560317</td>\n",
       "    </tr>\n",
       "  </tbody>\n",
       "</table>\n",
       "</div>"
      ],
      "text/plain": [
       "          def          \n",
       "        count      mean\n",
       "PAYs_2                 \n",
       "0       25590  0.162759\n",
       "1        4410  0.560317"
      ]
     },
     "execution_count": 24,
     "metadata": {},
     "output_type": "execute_result"
    }
   ],
   "source": [
    "print credit_card.groupby('PAY_2').agg({'def':['count','mean']})\n",
    "credit_card['PAYs_2'] = credit_card['PAY_2']\n",
    "credit_card.loc[credit_card['PAYs_2']< 2,'PAYs_2'] = 0\n",
    "credit_card.loc[credit_card['PAYs_2']>=2,'PAYs_2'] = 1\n",
    "credit_card.groupby('PAYs_2').agg({'def':['count','mean']})"
   ]
  },
  {
   "cell_type": "code",
   "execution_count": 25,
   "metadata": {
    "collapsed": false
   },
   "outputs": [
    {
     "name": "stdout",
     "output_type": "stream",
     "text": [
      "         def          \n",
      "       count      mean\n",
      "PAY_3                 \n",
      "-1     25787  0.171947\n",
      " 1         4  0.250000\n",
      " 2      3819  0.515580\n",
      " 3       240  0.575000\n",
      " 4        76  0.578947\n",
      " 5        21  0.571429\n",
      " 6        23  0.608696\n",
      " 7        27  0.814815\n",
      " 8         3  0.666667\n"
     ]
    },
    {
     "data": {
      "text/html": [
       "<div>\n",
       "<table border=\"1\" class=\"dataframe\">\n",
       "  <thead>\n",
       "    <tr>\n",
       "      <th></th>\n",
       "      <th colspan=\"2\" halign=\"left\">def</th>\n",
       "    </tr>\n",
       "    <tr>\n",
       "      <th></th>\n",
       "      <th>count</th>\n",
       "      <th>mean</th>\n",
       "    </tr>\n",
       "    <tr>\n",
       "      <th>PAYs_3</th>\n",
       "      <th></th>\n",
       "      <th></th>\n",
       "    </tr>\n",
       "  </thead>\n",
       "  <tbody>\n",
       "    <tr>\n",
       "      <th>0</th>\n",
       "      <td>25791</td>\n",
       "      <td>0.171959</td>\n",
       "    </tr>\n",
       "    <tr>\n",
       "      <th>1</th>\n",
       "      <td>4209</td>\n",
       "      <td>0.522927</td>\n",
       "    </tr>\n",
       "  </tbody>\n",
       "</table>\n",
       "</div>"
      ],
      "text/plain": [
       "          def          \n",
       "        count      mean\n",
       "PAYs_3                 \n",
       "0       25791  0.171959\n",
       "1        4209  0.522927"
      ]
     },
     "execution_count": 25,
     "metadata": {},
     "output_type": "execute_result"
    }
   ],
   "source": [
    "print credit_card.groupby('PAY_3').agg({'def':['count','mean']})\n",
    "credit_card['PAYs_3'] = credit_card['PAY_3']\n",
    "credit_card.loc[credit_card['PAYs_3']< 2,'PAYs_3'] = 0\n",
    "credit_card.loc[credit_card['PAYs_3']>=2,'PAYs_3'] = 1\n",
    "credit_card.groupby('PAYs_3').agg({'def':['count','mean']})"
   ]
  },
  {
   "cell_type": "code",
   "execution_count": 26,
   "metadata": {
    "collapsed": false
   },
   "outputs": [
    {
     "name": "stdout",
     "output_type": "stream",
     "text": [
      "         def          \n",
      "       count      mean\n",
      "PAY_4                 \n",
      "-1     26490  0.179577\n",
      " 1         2  0.500000\n",
      " 2      3159  0.523267\n",
      " 3       180  0.611111\n",
      " 4        69  0.666667\n",
      " 5        35  0.514286\n",
      " 6         5  0.400000\n",
      " 7        58  0.827586\n",
      " 8         2  0.500000\n"
     ]
    },
    {
     "data": {
      "text/html": [
       "<div>\n",
       "<table border=\"1\" class=\"dataframe\">\n",
       "  <thead>\n",
       "    <tr>\n",
       "      <th></th>\n",
       "      <th colspan=\"2\" halign=\"left\">def</th>\n",
       "    </tr>\n",
       "    <tr>\n",
       "      <th></th>\n",
       "      <th>count</th>\n",
       "      <th>mean</th>\n",
       "    </tr>\n",
       "    <tr>\n",
       "      <th>PAYs_4</th>\n",
       "      <th></th>\n",
       "      <th></th>\n",
       "    </tr>\n",
       "  </thead>\n",
       "  <tbody>\n",
       "    <tr>\n",
       "      <th>0</th>\n",
       "      <td>26490</td>\n",
       "      <td>0.179577</td>\n",
       "    </tr>\n",
       "    <tr>\n",
       "      <th>1</th>\n",
       "      <td>3510</td>\n",
       "      <td>0.535328</td>\n",
       "    </tr>\n",
       "  </tbody>\n",
       "</table>\n",
       "</div>"
      ],
      "text/plain": [
       "          def          \n",
       "        count      mean\n",
       "PAYs_4                 \n",
       "0       26490  0.179577\n",
       "1        3510  0.535328"
      ]
     },
     "execution_count": 26,
     "metadata": {},
     "output_type": "execute_result"
    }
   ],
   "source": [
    "print credit_card.groupby('PAY_4').agg({'def':['count','mean']})\n",
    "credit_card['PAYs_4'] = credit_card['PAY_4']\n",
    "credit_card.loc[credit_card['PAYs_4']< 1,'PAYs_4'] = 0\n",
    "credit_card.loc[credit_card['PAYs_4']>=2,'PAYs_4'] = 1\n",
    "credit_card.groupby('PAYs_4').agg({'def':['count','mean']})"
   ]
  },
  {
   "cell_type": "code",
   "execution_count": 27,
   "metadata": {
    "collapsed": false
   },
   "outputs": [
    {
     "name": "stdout",
     "output_type": "stream",
     "text": [
      "         def          \n",
      "       count      mean\n",
      "PAY_5                 \n",
      "-1     27032  0.184485\n",
      " 2      2626  0.541889\n",
      " 3       178  0.634831\n",
      " 4        84  0.607143\n",
      " 5        17  0.588235\n",
      " 6         4  0.750000\n",
      " 7        58  0.827586\n",
      " 8         1  1.000000\n"
     ]
    },
    {
     "data": {
      "text/html": [
       "<div>\n",
       "<table border=\"1\" class=\"dataframe\">\n",
       "  <thead>\n",
       "    <tr>\n",
       "      <th></th>\n",
       "      <th colspan=\"2\" halign=\"left\">def</th>\n",
       "    </tr>\n",
       "    <tr>\n",
       "      <th></th>\n",
       "      <th>count</th>\n",
       "      <th>mean</th>\n",
       "    </tr>\n",
       "    <tr>\n",
       "      <th>PAYs_5</th>\n",
       "      <th></th>\n",
       "      <th></th>\n",
       "    </tr>\n",
       "  </thead>\n",
       "  <tbody>\n",
       "    <tr>\n",
       "      <th>0</th>\n",
       "      <td>27032</td>\n",
       "      <td>0.184485</td>\n",
       "    </tr>\n",
       "    <tr>\n",
       "      <th>1</th>\n",
       "      <td>2968</td>\n",
       "      <td>0.555593</td>\n",
       "    </tr>\n",
       "  </tbody>\n",
       "</table>\n",
       "</div>"
      ],
      "text/plain": [
       "          def          \n",
       "        count      mean\n",
       "PAYs_5                 \n",
       "0       27032  0.184485\n",
       "1        2968  0.555593"
      ]
     },
     "execution_count": 27,
     "metadata": {},
     "output_type": "execute_result"
    }
   ],
   "source": [
    "print credit_card.groupby('PAY_5').agg({'def':['count','mean']})\n",
    "credit_card['PAYs_5'] = credit_card['PAY_5']\n",
    "credit_card.loc[credit_card['PAYs_5']< 1,'PAYs_5'] = 0\n",
    "credit_card.loc[credit_card['PAYs_5']>=2,'PAYs_5'] = 1\n",
    "credit_card.groupby('PAYs_5').agg({'def':['count','mean']})"
   ]
  },
  {
   "cell_type": "code",
   "execution_count": 28,
   "metadata": {
    "collapsed": false
   },
   "outputs": [
    {
     "name": "stdout",
     "output_type": "stream",
     "text": [
      "         def          \n",
      "       count      mean\n",
      "PAY_6                 \n",
      "-1     26921  0.186657\n",
      " 2      2766  0.506508\n",
      " 3       184  0.641304\n",
      " 4        49  0.632653\n",
      " 5        13  0.538462\n",
      " 6        19  0.736842\n",
      " 7        46  0.826087\n",
      " 8         2  1.000000\n"
     ]
    },
    {
     "data": {
      "text/html": [
       "<div>\n",
       "<table border=\"1\" class=\"dataframe\">\n",
       "  <thead>\n",
       "    <tr>\n",
       "      <th></th>\n",
       "      <th colspan=\"2\" halign=\"left\">def</th>\n",
       "    </tr>\n",
       "    <tr>\n",
       "      <th></th>\n",
       "      <th>count</th>\n",
       "      <th>mean</th>\n",
       "    </tr>\n",
       "    <tr>\n",
       "      <th>PAYs_6</th>\n",
       "      <th></th>\n",
       "      <th></th>\n",
       "    </tr>\n",
       "  </thead>\n",
       "  <tbody>\n",
       "    <tr>\n",
       "      <th>0</th>\n",
       "      <td>26921</td>\n",
       "      <td>0.186657</td>\n",
       "    </tr>\n",
       "    <tr>\n",
       "      <th>1</th>\n",
       "      <td>3079</td>\n",
       "      <td>0.523222</td>\n",
       "    </tr>\n",
       "  </tbody>\n",
       "</table>\n",
       "</div>"
      ],
      "text/plain": [
       "          def          \n",
       "        count      mean\n",
       "PAYs_6                 \n",
       "0       26921  0.186657\n",
       "1        3079  0.523222"
      ]
     },
     "execution_count": 28,
     "metadata": {},
     "output_type": "execute_result"
    }
   ],
   "source": [
    "print credit_card.groupby('PAY_6').agg({'def':['count','mean']})\n",
    "credit_card['PAYs_6'] = credit_card['PAY_6']\n",
    "credit_card.loc[credit_card['PAYs_6']< 1,'PAYs_6'] = 0\n",
    "credit_card.loc[credit_card['PAYs_6']>=2,'PAYs_6'] = 1\n",
    "credit_card.groupby('PAYs_6').agg({'def':['count','mean']})"
   ]
  },
  {
   "cell_type": "code",
   "execution_count": 29,
   "metadata": {
    "collapsed": false
   },
   "outputs": [
    {
     "name": "stdout",
     "output_type": "stream",
     "text": [
      "     remain_1          \n",
      "         mean    median\n",
      "def                    \n",
      "0    0.358507  0.222701\n",
      "1    0.449747  0.444095 \n",
      "\n",
      "     remain_2          \n",
      "         mean    median\n",
      "def                    \n",
      "0    0.343105  0.206865\n",
      "1    0.449297  0.450229 \n",
      "\n",
      "     remain_3          \n",
      "         mean    median\n",
      "def                    \n",
      "0    0.331120  0.191269\n",
      "1    0.434164  0.430185 \n",
      "\n",
      "     remain_4          \n",
      "         mean    median\n",
      "def                    \n",
      "0    0.300264  0.170398\n",
      "1    0.407118  0.378230 \n",
      "\n",
      "     remain_5          \n",
      "         mean    median\n",
      "def                    \n",
      "0    0.275554  0.147362\n",
      "1    0.379698  0.344659 \n",
      "\n",
      "     remain_6          \n",
      "         mean    median\n",
      "def                    \n",
      "0    0.259809  0.122281\n",
      "1    0.365317  0.320390\n"
     ]
    }
   ],
   "source": [
    "credit_card['remain_1'] = (credit_card['BILL_AMT1'] - credit_card['PAY_AMT1'])/credit_card['LIMIT_BAL']\n",
    "credit_card['remain_2'] = (credit_card['BILL_AMT2'] - credit_card['PAY_AMT2'])/credit_card['LIMIT_BAL']\n",
    "credit_card['remain_3'] = (credit_card['BILL_AMT3'] - credit_card['PAY_AMT3'])/credit_card['LIMIT_BAL']\n",
    "credit_card['remain_4'] = (credit_card['BILL_AMT4'] - credit_card['PAY_AMT4'])/credit_card['LIMIT_BAL']\n",
    "credit_card['remain_5'] = (credit_card['BILL_AMT5'] - credit_card['PAY_AMT5'])/credit_card['LIMIT_BAL']\n",
    "credit_card['remain_6'] = (credit_card['BILL_AMT6'] - credit_card['PAY_AMT6'])/credit_card['LIMIT_BAL']\n",
    "\n",
    "print credit_card.groupby('def').agg({'remain_1':['mean','median']}),'\\n'\n",
    "print credit_card.groupby('def').agg({'remain_2':['mean','median']}),'\\n'\n",
    "print credit_card.groupby('def').agg({'remain_3':['mean','median']}),'\\n'\n",
    "print credit_card.groupby('def').agg({'remain_4':['mean','median']}),'\\n'\n",
    "print credit_card.groupby('def').agg({'remain_5':['mean','median']}),'\\n'\n",
    "print credit_card.groupby('def').agg({'remain_6':['mean','median']})"
   ]
  },
  {
   "cell_type": "markdown",
   "metadata": {},
   "source": [
    "<br><br><br>\n",
    "### Model Construction and Selection\n",
    "\n",
    "After constructing the data frame to a cleaner format, I started to construct models.\n",
    "I trained multiple machine learning models as below:\n",
    "\n",
    "-  Tree Model, Random Forest, Gradient Boosting with original variables\n",
    "-  Tree Model, Random Forest, Gradient Boosting with modified variables\n",
    "-  Logistic regression with selected variables from importance features\n",
    "\n",
    "\n",
    "Because the imbalanced data  (22% default rate) can affect the model performance, I tried to adjust the dataset to see if I can improvement on model prediction:\n",
    "-  Adjust the sample data to be more balanced (up-sample the default people)\n",
    "\n",
    "To evaluate the model performance, I used three methods here:\n",
    "-  Normal accuracy (percentage of exact match)\n",
    "-  f1 score\n",
    "-  Calculating precision and recall to improve the model sensitivity of predicting default and minimize type II errors (false negative - probability of non-default, while in fact it’s default). "
   ]
  },
  {
   "cell_type": "code",
   "execution_count": 30,
   "metadata": {
    "collapsed": false
   },
   "outputs": [],
   "source": [
    "from sklearn.tree import DecisionTreeClassifier\n",
    "from sklearn.model_selection import train_test_split\n",
    "from sklearn.metrics import f1_score,accuracy_score\n",
    "from sklearn.utils import resample\n",
    "from sklearn.ensemble import RandomForestClassifier , GradientBoostingClassifier\n",
    "from sklearn.linear_model import LogisticRegression"
   ]
  },
  {
   "cell_type": "code",
   "execution_count": 31,
   "metadata": {
    "collapsed": false
   },
   "outputs": [
    {
     "name": "stdout",
     "output_type": "stream",
     "text": [
      "<class 'pandas.core.frame.DataFrame'>\n",
      "RangeIndex: 30000 entries, 0 to 29999\n",
      "Data columns (total 44 columns):\n",
      "LIMIT_BAL    30000 non-null int64\n",
      "SEX          30000 non-null int64\n",
      "EDUCATION    30000 non-null int64\n",
      "MARRIAGE     30000 non-null int64\n",
      "AGE          30000 non-null int64\n",
      "PAY_1        30000 non-null int64\n",
      "PAY_2        30000 non-null int64\n",
      "PAY_3        30000 non-null int64\n",
      "PAY_4        30000 non-null int64\n",
      "PAY_5        30000 non-null int64\n",
      "PAY_6        30000 non-null int64\n",
      "BILL_AMT1    30000 non-null int64\n",
      "BILL_AMT2    30000 non-null int64\n",
      "BILL_AMT3    30000 non-null int64\n",
      "BILL_AMT4    30000 non-null int64\n",
      "BILL_AMT5    30000 non-null int64\n",
      "BILL_AMT6    30000 non-null int64\n",
      "PAY_AMT1     30000 non-null int64\n",
      "PAY_AMT2     30000 non-null int64\n",
      "PAY_AMT3     30000 non-null int64\n",
      "PAY_AMT4     30000 non-null int64\n",
      "PAY_AMT5     30000 non-null int64\n",
      "PAY_AMT6     30000 non-null int64\n",
      "def          30000 non-null int64\n",
      "age_cut      30000 non-null int32\n",
      "SEX_mar      30000 non-null int64\n",
      "billPer1     30000 non-null float64\n",
      "billPer2     30000 non-null float64\n",
      "billPer3     30000 non-null float64\n",
      "billPer4     30000 non-null float64\n",
      "billPer5     30000 non-null float64\n",
      "billPer6     30000 non-null float64\n",
      "PAYs_1       30000 non-null int64\n",
      "PAYs_2       30000 non-null int64\n",
      "PAYs_3       30000 non-null int64\n",
      "PAYs_4       30000 non-null int64\n",
      "PAYs_5       30000 non-null int64\n",
      "PAYs_6       30000 non-null int64\n",
      "remain_1     30000 non-null float64\n",
      "remain_2     30000 non-null float64\n",
      "remain_3     30000 non-null float64\n",
      "remain_4     30000 non-null float64\n",
      "remain_5     30000 non-null float64\n",
      "remain_6     30000 non-null float64\n",
      "dtypes: float64(12), int32(1), int64(31)\n",
      "memory usage: 10.0 MB\n"
     ]
    }
   ],
   "source": [
    "credit_card.info()"
   ]
  },
  {
   "cell_type": "code",
   "execution_count": 32,
   "metadata": {
    "collapsed": false
   },
   "outputs": [
    {
     "name": "stdout",
     "output_type": "stream",
     "text": [
      "Features1:\n",
      "Index([u'LIMIT_BAL',       u'SEX', u'EDUCATION',  u'MARRIAGE',       u'AGE',\n",
      "           u'PAY_1',     u'PAY_2',     u'PAY_3',     u'PAY_4',     u'PAY_5',\n",
      "           u'PAY_6', u'BILL_AMT1', u'BILL_AMT2', u'BILL_AMT3', u'BILL_AMT4',\n",
      "       u'BILL_AMT5', u'BILL_AMT6',  u'PAY_AMT1',  u'PAY_AMT2',  u'PAY_AMT3',\n",
      "        u'PAY_AMT4',  u'PAY_AMT5',  u'PAY_AMT6'],\n",
      "      dtype='object') \n",
      "\n",
      "Features2:\n",
      "Index([u'LIMIT_BAL',       u'SEX', u'EDUCATION',  u'MARRIAGE',   u'SEX_mar',\n",
      "         u'age_cut',    u'PAYs_1',    u'PAYs_2',    u'PAYs_3',    u'PAYs_4',\n",
      "          u'PAYs_5',    u'PAYs_6', u'BILL_AMT1', u'BILL_AMT2', u'BILL_AMT3',\n",
      "       u'BILL_AMT4', u'BILL_AMT5', u'BILL_AMT6',  u'PAY_AMT1',  u'PAY_AMT2',\n",
      "        u'PAY_AMT3',  u'PAY_AMT4',  u'PAY_AMT5',  u'PAY_AMT6',  u'billPer1',\n",
      "        u'billPer2',  u'billPer3',  u'billPer4',  u'billPer5',  u'billPer6',\n",
      "        u'remain_1',  u'remain_2',  u'remain_3',  u'remain_4',  u'remain_5',\n",
      "        u'remain_6'],\n",
      "      dtype='object')\n"
     ]
    }
   ],
   "source": [
    "X_train, X_test, y_train, y_test = train_test_split(credit_card.drop('def',axis=1).copy(), credit_card[['def']].copy(), test_size=0.20, random_state=1)\n",
    "output = credit_card[['def']].copy()\n",
    "feature1 = ['LIMIT_BAL','SEX','EDUCATION','MARRIAGE','AGE','PAY_1','PAY_2','PAY_3','PAY_4','PAY_5','PAY_6','BILL_AMT1','BILL_AMT2','BILL_AMT3','BILL_AMT4','BILL_AMT5','BILL_AMT6','PAY_AMT1','PAY_AMT2','PAY_AMT3','PAY_AMT4','PAY_AMT5','PAY_AMT6']\n",
    "feature2 = ['LIMIT_BAL','SEX','EDUCATION','MARRIAGE','SEX_mar','age_cut','PAYs_1','PAYs_2','PAYs_3','PAYs_4','PAYs_5','PAYs_6','BILL_AMT1','BILL_AMT2','BILL_AMT3','BILL_AMT4','BILL_AMT5','BILL_AMT6',\n",
    "                       'PAY_AMT1','PAY_AMT2','PAY_AMT3','PAY_AMT4','PAY_AMT5','PAY_AMT6','billPer1','billPer2','billPer3','billPer4','billPer5','billPer6','remain_1','remain_2','remain_3','remain_4','remain_5','remain_6']\n",
    "\n",
    "X_train1 = X_train[feature1].copy()\n",
    "X_test1 = X_test[feature1].copy()\n",
    "\n",
    "X_train2 = X_train[feature2].copy()\n",
    "X_test2 = X_test[feature2].copy()\n",
    "\n",
    "input2 = credit_card[feature2].copy()\n",
    "print 'Features1:\\n',X_train1.columns,'\\n\\nFeatures2:\\n',X_train2.columns"
   ]
  },
  {
   "cell_type": "code",
   "execution_count": 33,
   "metadata": {
    "collapsed": false
   },
   "outputs": [
    {
     "name": "stdout",
     "output_type": "stream",
     "text": [
      "Run multiple models with original features:\n",
      "\n",
      "Tree Model: \n",
      "Precision:  0.625310173697  and Recall:  0.376963350785\n",
      "Accuracy rate is:  0.810833333333 \n",
      "f1 score is:  0.470368642091 \n",
      "\n",
      "           Feature Importance\n",
      "PAY_1                0.463607\n",
      "PAY_2                0.096210\n",
      "PAY_AMT3             0.052436\n",
      "BILL_AMT1            0.051731\n",
      "LIMIT_BAL            0.042088\n",
      "\n",
      "Random Forest: \n",
      "Precision:  0.662393162393  and Recall:  0.347793567689\n",
      "Accuracy rate is:  0.815166666667 \n",
      "f1 score is:  0.456105934282 \n",
      "\n",
      "           Feature Importance\n",
      "PAY_1                0.092596\n",
      "AGE                  0.067483\n",
      "BILL_AMT1            0.062872\n",
      "LIMIT_BAL            0.060599\n",
      "BILL_AMT2            0.056965\n",
      "\n",
      "Gradient Boosting: \n",
      "Precision:  0.68115942029  and Recall:  0.35153328347\n",
      "Accuracy rate is:  0.818833333333 \n",
      "f1 score is:  0.463739516527 \n",
      "\n",
      "           Feature Importance\n",
      "PAY_1                0.151372\n",
      "BILL_AMT1            0.130763\n",
      "LIMIT_BAL            0.071980\n",
      "BILL_AMT6            0.053408\n",
      "PAY_AMT1             0.051277\n"
     ]
    }
   ],
   "source": [
    "print ('Run multiple models with original features:\\n')\n",
    "Tree = DecisionTreeClassifier(max_depth=10, random_state=1) \n",
    "Tree.fit(X_train1, y_train)\n",
    "TreePred = Tree.predict(X_test1)\n",
    "normal_acc = accuracy_score(y_test,TreePred)\n",
    "f1_acc = f1_score(y_test,TreePred)\n",
    "\n",
    "TP = np.sum(np.logical_and(TreePred == 1, y_test['def'] == 1))\n",
    "FP = np.sum(np.logical_and(TreePred == 1, y_test['def'] == 0))\n",
    "FN = np.sum(np.logical_and(TreePred == 0, y_test['def'] == 1))\n",
    "print 'Tree Model: \\nPrecision: ',TP*1.0/(TP+FP), ' and Recall: ',TP*1.0/(TP+FN)\n",
    "print 'Accuracy rate is: ',normal_acc,'\\nf1 score is: ',f1_acc,'\\n'\n",
    "print pd.DataFrame({'Feature Importance':Tree.feature_importances_},index=X_train1.columns).sort_values('Feature Importance',ascending=False).head()\n",
    "\n",
    "\n",
    "Rf = RandomForestClassifier(n_estimators = 100, max_features='sqrt',random_state=1)\n",
    "Rf.fit(X_train1, y_train)\n",
    "RfPred = Rf.predict(X_test1)\n",
    "normal_acc = accuracy_score(y_test,RfPred)\n",
    "f1_acc = f1_score(y_test,RfPred)\n",
    "\n",
    "TP = np.sum(np.logical_and(RfPred == 1, y_test['def'] == 1))\n",
    "FP = np.sum(np.logical_and(RfPred == 1, y_test['def'] == 0))\n",
    "FN = np.sum(np.logical_and(RfPred == 0, y_test['def'] == 1))\n",
    "print '\\nRandom Forest: \\nPrecision: ',TP*1.0/(TP+FP), ' and Recall: ',TP*1.0/(TP+FN)\n",
    "print 'Accuracy rate is: ',normal_acc,'\\nf1 score is: ',f1_acc,'\\n'\n",
    "print pd.DataFrame({'Feature Importance':Rf.feature_importances_},index=X_train1.columns).sort_values('Feature Importance',ascending=False).head()\n",
    "\n",
    "\n",
    "Gboost = GradientBoostingClassifier(random_state=1)\n",
    "Gboost.fit(X_train1, y_train)\n",
    "GbPred = Gboost.predict(X_test1)\n",
    "normal_acc = accuracy_score(y_test,GbPred)\n",
    "f1_acc = f1_score(y_test,GbPred)\n",
    "\n",
    "TP = np.sum(np.logical_and(GbPred == 1, y_test['def'] == 1))\n",
    "FP = np.sum(np.logical_and(GbPred == 1, y_test['def'] == 0))\n",
    "FN = np.sum(np.logical_and(GbPred == 0, y_test['def'] == 1))\n",
    "print '\\nGradient Boosting: \\nPrecision: ',TP*1.0/(TP+FP), ' and Recall: ',TP*1.0/(TP+FN)\n",
    "print 'Accuracy rate is: ',normal_acc,'\\nf1 score is: ',f1_acc,'\\n'\n",
    "print pd.DataFrame({'Feature Importance':Gboost.feature_importances_},index=X_train1.columns).sort_values('Feature Importance',ascending=False).head()\n"
   ]
  },
  {
   "cell_type": "code",
   "execution_count": 34,
   "metadata": {
    "collapsed": false
   },
   "outputs": [
    {
     "name": "stdout",
     "output_type": "stream",
     "text": [
      "\n",
      "Logistic Regression: \n",
      "Precision:  0.706576728499  and Recall:  0.313388182498\n",
      "Accuracy rate is:  0.818 \n",
      "f1 score is:  0.434196891192 \n",
      "\n"
     ]
    }
   ],
   "source": [
    "Logistic = LogisticRegression()\n",
    "Logistic.fit(X_train1[['PAY_1']],y_train)\n",
    "LogPred = Logistic.predict(X_test1[['PAY_1']])\n",
    "normal_acc = accuracy_score(y_test,LogPred)\n",
    "f1_acc = f1_score(y_test,LogPred)\n",
    "\n",
    "TP = np.sum(np.logical_and(LogPred == 1, y_test['def'] == 1))\n",
    "FP = np.sum(np.logical_and(LogPred == 1, y_test['def'] == 0))\n",
    "FN = np.sum(np.logical_and(LogPred == 0, y_test['def'] == 1))\n",
    "print '\\nLogistic Regression: \\nPrecision: ',TP*1.0/(TP+FP), ' and Recall: ',TP*1.0/(TP+FN)\n",
    "print 'Accuracy rate is: ',normal_acc,'\\nf1 score is: ',f1_acc,'\\n'"
   ]
  },
  {
   "cell_type": "code",
   "execution_count": 35,
   "metadata": {
    "collapsed": false
   },
   "outputs": [
    {
     "name": "stdout",
     "output_type": "stream",
     "text": [
      "Run multiple models with modified features:\n",
      "\n",
      "Tree Model: \n",
      "Precision:  0.592508513053  and Recall:  0.390426327599\n",
      "Accuracy rate is:  0.804333333333 \n",
      "f1 score is:  0.470694319206\n",
      "            Feature\n",
      "PAYs_1     0.445142\n",
      "PAYs_2     0.090087\n",
      "PAY_AMT3   0.039086\n",
      "BILL_AMT1  0.031399\n",
      "remain_1   0.025655 \n",
      "\n",
      "\n",
      "Random Forest: \n",
      "Precision:  0.63453815261  and Recall:  0.354525056096\n",
      "Accuracy rate is:  0.810666666667 \n",
      "f1 score is:  0.454894433781\n",
      "            Feature\n",
      "PAYs_1     0.085392\n",
      "PAYs_2     0.043595\n",
      "LIMIT_BAL  0.040790\n",
      "remain_1   0.034561\n",
      "billPer1   0.034392 \n",
      "\n",
      "\n",
      "Gradient Boosting: \n",
      "Precision:  0.673789173789  and Recall:  0.353777112939\n",
      "Accuracy rate is:  0.817833333333 \n",
      "f1 score is:  0.463952918097\n",
      "            Feature\n",
      "PAYs_1     0.132429\n",
      "BILL_AMT1  0.080053\n",
      "remain_2   0.056568\n",
      "billPer1   0.052911\n",
      "PAY_AMT1   0.045622 \n",
      "\n"
     ]
    }
   ],
   "source": [
    "print ('Run multiple models with modified features:\\n')\n",
    "Tree2 = DecisionTreeClassifier(max_depth=10, random_state=1) \n",
    "Tree2.fit(X_train2, y_train)\n",
    "TreePred2 = Tree2.predict(X_test2)\n",
    "normal_acc = accuracy_score(y_test,TreePred2)\n",
    "f1_acc = f1_score(y_test,TreePred2)\n",
    "TP = np.sum(np.logical_and(TreePred2 == 1, y_test['def'] == 1))\n",
    "FP = np.sum(np.logical_and(TreePred2 == 1, y_test['def'] == 0))\n",
    "FN = np.sum(np.logical_and(TreePred2 == 0, y_test['def'] == 1))\n",
    "print 'Tree Model: \\nPrecision: ',TP*1.0/(TP+FP), ' and Recall: ',TP*1.0/(TP+FN)\n",
    "print 'Accuracy rate is: ',normal_acc,'\\nf1 score is: ',f1_acc\n",
    "print pd.DataFrame({'Feature':Tree2.feature_importances_},index=input2.columns).sort_values('Feature',ascending=False).head(),'\\n'\n",
    "\n",
    "\n",
    "Rf2 = RandomForestClassifier(n_estimators = 100, max_features='sqrt',random_state=1)\n",
    "Rf2.fit(X_train2, y_train)\n",
    "RfPred2 = Rf2.predict(X_test2)\n",
    "normal_acc = accuracy_score(y_test,RfPred2)\n",
    "f1_acc = f1_score(y_test,RfPred2)\n",
    "TP = np.sum(np.logical_and(RfPred2 == 1, y_test['def'] == 1))\n",
    "FP = np.sum(np.logical_and(RfPred2 == 1, y_test['def'] == 0))\n",
    "FN = np.sum(np.logical_and(RfPred2 == 0, y_test['def'] == 1))\n",
    "print '\\nRandom Forest: \\nPrecision: ',TP*1.0/(TP+FP), ' and Recall: ',TP*1.0/(TP+FN)\n",
    "print 'Accuracy rate is: ',normal_acc,'\\nf1 score is: ',f1_acc\n",
    "print pd.DataFrame({'Feature':Rf2.feature_importances_},index=input2.columns).sort_values('Feature',ascending=False).head(),'\\n'\n",
    "\n",
    "Gboost2 = GradientBoostingClassifier(random_state=1)\n",
    "Gboost2.fit(X_train2, y_train)\n",
    "GbPred2 = Gboost2.predict(X_test2)\n",
    "normal_acc = accuracy_score(y_test,GbPred2)\n",
    "f1_acc = f1_score(y_test,GbPred2)\n",
    "TP = np.sum(np.logical_and(GbPred2 == 1, y_test['def'] == 1))\n",
    "FP = np.sum(np.logical_and(GbPred2 == 1, y_test['def'] == 0))\n",
    "FN = np.sum(np.logical_and(GbPred2 == 0, y_test['def'] == 1))\n",
    "print '\\nGradient Boosting: \\nPrecision: ',TP*1.0/(TP+FP), ' and Recall: ',TP*1.0/(TP+FN)\n",
    "print 'Accuracy rate is: ',normal_acc,'\\nf1 score is: ',f1_acc\n",
    "print pd.DataFrame({'Feature':Gboost2.feature_importances_},index=input2.columns).sort_values('Feature',ascending=False).head(),'\\n'\n"
   ]
  },
  {
   "cell_type": "code",
   "execution_count": 36,
   "metadata": {
    "collapsed": false
   },
   "outputs": [
    {
     "name": "stdout",
     "output_type": "stream",
     "text": [
      "\n",
      "Logistic Regression: \n",
      "Precision:  0.706576728499  and Recall:  0.313388182498\n",
      "Accuracy rate is:  0.818 \n",
      "f1 score is:  0.434196891192 \n",
      "\n"
     ]
    }
   ],
   "source": [
    "Logistic2 = LogisticRegression()\n",
    "Logistic2.fit(X_train2[['PAYs_1']],y_train)\n",
    "LogPred2 = Logistic2.predict(X_test2[['PAYs_1']])\n",
    "normal_acc = accuracy_score(y_test,LogPred2)\n",
    "f1_acc = f1_score(y_test,LogPred2)\n",
    "TP = np.sum(np.logical_and(LogPred2 == 1, y_test['def'] == 1))\n",
    "FP = np.sum(np.logical_and(LogPred2 == 1, y_test['def'] == 0))\n",
    "FN = np.sum(np.logical_and(LogPred2 == 0, y_test['def'] == 1))\n",
    "print '\\nLogistic Regression: \\nPrecision: ',TP*1.0/(TP+FP), ' and Recall: ',TP*1.0/(TP+FN)\n",
    "print 'Accuracy rate is: ',normal_acc,'\\nf1 score is: ',f1_acc,'\\n'"
   ]
  },
  {
   "cell_type": "code",
   "execution_count": 37,
   "metadata": {
    "collapsed": false
   },
   "outputs": [
    {
     "name": "stdout",
     "output_type": "stream",
     "text": [
      "0    18701\n",
      "1     5299\n",
      "Name: def, dtype: int64\n",
      "1    18701\n",
      "0    18701\n",
      "Name: def, dtype: int64\n"
     ]
    }
   ],
   "source": [
    "credit_train = X_train.join(y_train).reset_index(drop=True)\n",
    "print(credit_train['def'].value_counts())\n",
    "credit_def = credit_train[credit_train['def']==1].reset_index(drop=True)\n",
    "credit_non_def = credit_train[credit_train['def']==0].reset_index(drop=True)\n",
    "credit_def_up = resample(credit_def,n_samples=len(credit_non_def),random_state=2)\n",
    "credit_upSample = pd.concat([credit_non_def,credit_def_up])\n",
    "print(credit_upSample['def'].value_counts())\n",
    "\n",
    "X_train3 = credit_upSample[feature2].copy()\n",
    "y_train3 = credit_upSample[['def']].copy()"
   ]
  },
  {
   "cell_type": "code",
   "execution_count": 38,
   "metadata": {
    "collapsed": false
   },
   "outputs": [
    {
     "name": "stdout",
     "output_type": "stream",
     "text": [
      "Run multiple models in a balanced data-set with modified features:\n",
      "\n",
      "Tree Model: \n",
      "Precision:  0.413227250124  and Recall:  0.621540762902\n",
      "Accuracy rate is:  0.719 \n",
      "f1 score is:  0.496415770609\n",
      "           Feature\n",
      "PAYs_1    0.451215\n",
      "PAY_AMT2  0.060265\n",
      "PAYs_4    0.034901\n",
      "PAY_AMT3  0.028213\n",
      "billPer2  0.028023 \n",
      "\n",
      "Random Forest: \n",
      "Precision:  0.593406593407  and Recall:  0.403889304413\n",
      "Accuracy rate is:  0.8055 \n",
      "f1 score is:  0.480640854473\n",
      "            Feature\n",
      "PAYs_1     0.082285\n",
      "LIMIT_BAL  0.042571\n",
      "PAYs_2     0.040563\n",
      "BILL_AMT1  0.036272\n",
      "PAY_AMT1   0.035541 \n",
      "\n",
      "Gradient Boosting: \n",
      "Precision:  0.475280898876  and Recall:  0.632759910247\n",
      "Accuracy rate is:  0.7625 \n",
      "f1 score is:  0.542829643888\n",
      "            Feature\n",
      "PAYs_1     0.118430\n",
      "BILL_AMT1  0.078480\n",
      "billPer1   0.044768\n",
      "remain_1   0.044342\n",
      "remain_2   0.043357 \n",
      "\n"
     ]
    }
   ],
   "source": [
    "print ('Run multiple models in a balanced data-set with modified features:\\n')\n",
    "Tree3 = DecisionTreeClassifier(max_depth=10, random_state=1) \n",
    "Tree3.fit(X_train3, y_train3)\n",
    "TreePred3 = Tree3.predict(X_test2)\n",
    "normal_acc = accuracy_score(y_test,TreePred3)\n",
    "f1_acc = f1_score(y_test,TreePred3)\n",
    "TP = np.sum(np.logical_and(TreePred3 == 1, y_test['def'] == 1))\n",
    "FP = np.sum(np.logical_and(TreePred3 == 1, y_test['def'] == 0))\n",
    "FN = np.sum(np.logical_and(TreePred3 == 0, y_test['def'] == 1))\n",
    "print 'Tree Model: \\nPrecision: ',TP*1.0/(TP+FP), ' and Recall: ',TP*1.0/(TP+FN)\n",
    "print 'Accuracy rate is: ',normal_acc,'\\nf1 score is: ',f1_acc\n",
    "print pd.DataFrame({'Feature':Tree3.feature_importances_},index=input2.columns).sort_values('Feature',ascending=False).head(),'\\n'\n",
    "\n",
    "Rf3 = RandomForestClassifier(n_estimators = 100, max_features='sqrt',random_state=1)\n",
    "Rf3.fit(X_train3, y_train3)\n",
    "RfPred3 = Rf3.predict(X_test2)\n",
    "normal_acc = accuracy_score(y_test,RfPred3)\n",
    "f1_acc = f1_score(y_test,RfPred3)\n",
    "TP = np.sum(np.logical_and(RfPred3 == 1, y_test['def'] == 1))\n",
    "FP = np.sum(np.logical_and(RfPred3 == 1, y_test['def'] == 0))\n",
    "FN = np.sum(np.logical_and(RfPred3 == 0, y_test['def'] == 1))\n",
    "print 'Random Forest: \\nPrecision: ',TP*1.0/(TP+FP), ' and Recall: ',TP*1.0/(TP+FN)\n",
    "print 'Accuracy rate is: ',normal_acc,'\\nf1 score is: ',f1_acc\n",
    "print pd.DataFrame({'Feature':Rf3.feature_importances_},index=input2.columns).sort_values('Feature',ascending=False).head(),'\\n'\n",
    "\n",
    "Gboost3 = GradientBoostingClassifier(random_state=1)\n",
    "Gboost3.fit(X_train3, y_train3)\n",
    "GbPred3 = Gboost3.predict(X_test2)\n",
    "normal_acc = accuracy_score(y_test,GbPred3)\n",
    "f1_acc = f1_score(y_test,GbPred3)\n",
    "TP = np.sum(np.logical_and(GbPred3 == 1, y_test['def'] == 1))\n",
    "FP = np.sum(np.logical_and(GbPred3 == 1, y_test['def'] == 0))\n",
    "FN = np.sum(np.logical_and(GbPred3 == 0, y_test['def'] == 1))\n",
    "print 'Gradient Boosting: \\nPrecision: ',TP*1.0/(TP+FP), ' and Recall: ',TP*1.0/(TP+FN)\n",
    "print 'Accuracy rate is: ',normal_acc,'\\nf1 score is: ',f1_acc\n",
    "print pd.DataFrame({'Feature':Gboost3.feature_importances_},index=input2.columns).sort_values('Feature',ascending=False).head(),'\\n'\n"
   ]
  },
  {
   "cell_type": "code",
   "execution_count": 39,
   "metadata": {
    "collapsed": false
   },
   "outputs": [
    {
     "name": "stdout",
     "output_type": "stream",
     "text": [
      "\n",
      "Logistic Regression: \n",
      "Precision:  0.508679245283  and Recall:  0.50411368736\n",
      "Accuracy rate is:  0.781 \n",
      "f1 score is:  0.506386175808 \n",
      "\n"
     ]
    }
   ],
   "source": [
    "Logistic3 = LogisticRegression()\n",
    "Logistic3.fit(X_train3[['PAYs_1']],y_train3)\n",
    "LogPred3 = Logistic3.predict(X_test2[['PAYs_1']])\n",
    "normal_acc = accuracy_score(y_test,LogPred3)\n",
    "f1_acc = f1_score(y_test,LogPred3)\n",
    "TP = np.sum(np.logical_and(LogPred3 == 1, y_test['def'] == 1))\n",
    "FP = np.sum(np.logical_and(LogPred3 == 1, y_test['def'] == 0))\n",
    "FN = np.sum(np.logical_and(LogPred3 == 0, y_test['def'] == 1))\n",
    "print '\\nLogistic Regression: \\nPrecision: ',TP*1.0/(TP+FP), ' and Recall: ',TP*1.0/(TP+FN)\n",
    "print 'Accuracy rate is: ',normal_acc,'\\nf1 score is: ',f1_acc,'\\n'"
   ]
  },
  {
   "cell_type": "markdown",
   "metadata": {},
   "source": [
    "### Conclusion\n",
    "\n",
    "- Among all models, Tree model and Gradient Boosting generated better results than Random Forest. However, there are uncertainties such as I happened to choose more appropriate parameters for those two models. If I have more time, I will work on the parameter tuning to optimize the parameter values.\n",
    "\n",
    "\n",
    "- There is slightly improvement comparing models with modified variables vs. original variables. 'PAY_1' is a predominant variable that affect the results. Only use this variable in logistic regression will achieve slightly lower accuracy rate. If I have more time, I will further analyze this variable to find more intuitive explanations\n",
    "\n",
    "\n",
    "- After balancing the dataset by increasing the number of minority group, the model improved. More importantly, the model is more likely to capture the default case. The probability of correctly predicting potential default people increased from ~ 40% to 60%. \n",
    "\n",
    "\n",
    "- In conclusion, the model accuracy can be further improved by discovering more related features or better tuning the parameters of model.\n",
    "\n"
   ]
  }
 ],
 "metadata": {
  "anaconda-cloud": {},
  "kernelspec": {
   "display_name": "Python [default]",
   "language": "python",
   "name": "python2"
  },
  "language_info": {
   "codemirror_mode": {
    "name": "ipython",
    "version": 2
   },
   "file_extension": ".py",
   "mimetype": "text/x-python",
   "name": "python",
   "nbconvert_exporter": "python",
   "pygments_lexer": "ipython2",
   "version": "2.7.12"
  }
 },
 "nbformat": 4,
 "nbformat_minor": 1
}

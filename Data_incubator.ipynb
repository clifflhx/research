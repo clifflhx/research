{
 "cells": [
  {
   "cell_type": "code",
   "execution_count": 10,
   "metadata": {
    "collapsed": true
   },
   "outputs": [],
   "source": [
    "import pandas as pd\n",
    "import numpy as np\n",
    "import datetime as dt\n",
    "%matplotlib inline\n",
    "import matplotlib.pyplot as plt\n",
    "import warnings\n",
    "warnings.filterwarnings(\"ignore\")"
   ]
  },
  {
   "cell_type": "code",
   "execution_count": 11,
   "metadata": {
    "collapsed": false
   },
   "outputs": [
    {
     "data": {
      "text/plain": [
       "(122701, 141)"
      ]
     },
     "execution_count": 11,
     "metadata": {},
     "output_type": "execute_result"
    }
   ],
   "source": [
    "Raw = pd.read_csv(\"E:/Importance/FT_Project/LoanStats_2017Q3.csv\",sep=',')\n",
    "Raw.shape"
   ]
  },
  {
   "cell_type": "code",
   "execution_count": 12,
   "metadata": {
    "collapsed": false
   },
   "outputs": [
    {
     "name": "stdout",
     "output_type": "stream",
     "text": [
      "<class 'pandas.core.frame.DataFrame'>\n",
      "RangeIndex: 122701 entries, 0 to 122700\n",
      "Data columns (total 18 columns):\n",
      "loan_amnt              122701 non-null int64\n",
      "funded_amnt            122701 non-null int64\n",
      "funded_amnt_inv        122701 non-null int64\n",
      "term                   122701 non-null object\n",
      "int_rate               122701 non-null float64\n",
      "installment            122701 non-null float64\n",
      "grade                  122701 non-null object\n",
      "sub_grade              122701 non-null object\n",
      "emp_length             122701 non-null object\n",
      "home_ownership         122701 non-null object\n",
      "annual_inc             122701 non-null float64\n",
      "verification_status    122701 non-null object\n",
      "loan_status            122701 non-null object\n",
      "purpose                122701 non-null object\n",
      "title                  122701 non-null object\n",
      "addr_state             122701 non-null object\n",
      "dti                    122517 non-null float64\n",
      "total_rec_int          122701 non-null float64\n",
      "dtypes: float64(5), int64(3), object(10)\n",
      "memory usage: 16.9+ MB\n"
     ]
    }
   ],
   "source": [
    "Metrics = ['loan_amnt', 'funded_amnt', 'funded_amnt_inv', 'term', 'int_rate','installment', 'grade', 'sub_grade','emp_length',\\\n",
    "           'home_ownership','annual_inc','verification_status','loan_status','purpose','title','addr_state','dti','total_rec_int']\n",
    "Loan = Raw[Metrics].copy()\n",
    "Loan['int_rate'] = list(map(lambda x: float(x[:-1])/100,Loan.int_rate))\n",
    "Loan.info()"
   ]
  },
  {
   "cell_type": "code",
   "execution_count": 13,
   "metadata": {
    "collapsed": false
   },
   "outputs": [
    {
     "data": {
      "text/html": [
       "<div>\n",
       "<table border=\"1\" class=\"dataframe\">\n",
       "  <thead>\n",
       "    <tr style=\"text-align: right;\">\n",
       "      <th></th>\n",
       "      <th>state</th>\n",
       "      <th>total_users</th>\n",
       "      <th>total_amnt</th>\n",
       "      <th>loan_pct</th>\n",
       "      <th>amnt_P_user</th>\n",
       "    </tr>\n",
       "  </thead>\n",
       "  <tbody>\n",
       "    <tr>\n",
       "      <th>4</th>\n",
       "      <td>CA</td>\n",
       "      <td>16373</td>\n",
       "      <td>244755325</td>\n",
       "      <td>0.136643</td>\n",
       "      <td>14948.715874</td>\n",
       "    </tr>\n",
       "    <tr>\n",
       "      <th>42</th>\n",
       "      <td>TX</td>\n",
       "      <td>10256</td>\n",
       "      <td>155020425</td>\n",
       "      <td>0.086546</td>\n",
       "      <td>15115.096041</td>\n",
       "    </tr>\n",
       "    <tr>\n",
       "      <th>33</th>\n",
       "      <td>NY</td>\n",
       "      <td>10688</td>\n",
       "      <td>154257525</td>\n",
       "      <td>0.086120</td>\n",
       "      <td>14432.777414</td>\n",
       "    </tr>\n",
       "    <tr>\n",
       "      <th>9</th>\n",
       "      <td>FL</td>\n",
       "      <td>8622</td>\n",
       "      <td>121278925</td>\n",
       "      <td>0.067708</td>\n",
       "      <td>14066.217235</td>\n",
       "    </tr>\n",
       "    <tr>\n",
       "      <th>13</th>\n",
       "      <td>IL</td>\n",
       "      <td>5161</td>\n",
       "      <td>79000475</td>\n",
       "      <td>0.044105</td>\n",
       "      <td>15307.203061</td>\n",
       "    </tr>\n",
       "  </tbody>\n",
       "</table>\n",
       "</div>"
      ],
      "text/plain": [
       "   state  total_users  total_amnt  loan_pct   amnt_P_user\n",
       "4     CA        16373   244755325  0.136643  14948.715874\n",
       "42    TX        10256   155020425  0.086546  15115.096041\n",
       "33    NY        10688   154257525  0.086120  14432.777414\n",
       "9     FL         8622   121278925  0.067708  14066.217235\n",
       "13    IL         5161    79000475  0.044105  15307.203061"
      ]
     },
     "execution_count": 13,
     "metadata": {},
     "output_type": "execute_result"
    }
   ],
   "source": [
    "state= Loan.groupby('addr_state').agg({'loan_amnt':'sum','funded_amnt':'count'}).reset_index().sort_values('loan_amnt',ascending=False)\n",
    "total = state.loan_amnt.sum()\n",
    "state.columns=['state','total_users','total_amnt']\n",
    "state['loan_pct'] = state.total_amnt*1.0/total\n",
    "state['amnt_P_user'] = state.total_amnt/state.total_users\n",
    "state.head()"
   ]
  },
  {
   "cell_type": "code",
   "execution_count": 14,
   "metadata": {
    "collapsed": false
   },
   "outputs": [
    {
     "data": {
      "text/plain": [
       "<matplotlib.text.Text at 0x8c887f0>"
      ]
     },
     "execution_count": 14,
     "metadata": {},
     "output_type": "execute_result"
    },
    {
     "data": {
      "image/png": "[encoded data removed]",
      "text/plain": [
       "<matplotlib.figure.Figure at 0xe60fa90>"
      ]
     },
     "metadata": {},
     "output_type": "display_data"
    }
   ],
   "source": [
    "def get_value(val):\n",
    "    return round(val/100,3)\n",
    "state.loc[state.loan_pct<0.02,'state'] = 'other'\n",
    "state2 = state.groupby('state')['loan_pct'].sum().reset_index()\n",
    "plt.pie(state.loan_pct.head(10),labels=state.state.head(10),autopct=get_value)\n",
    "plt.suptitle('Loan amount percentage for different state')"
   ]
  },
  {
   "cell_type": "code",
   "execution_count": 15,
   "metadata": {
    "collapsed": false
   },
   "outputs": [
    {
     "data": {
      "text/html": [
       "<div>\n",
       "<table border=\"1\" class=\"dataframe\">\n",
       "  <thead>\n",
       "    <tr style=\"text-align: right;\">\n",
       "      <th></th>\n",
       "      <th>loan_amnt</th>\n",
       "      <th>funded_amnt</th>\n",
       "      <th>funded_amnt_inv</th>\n",
       "      <th>term</th>\n",
       "      <th>int_rate</th>\n",
       "      <th>installment</th>\n",
       "      <th>grade</th>\n",
       "      <th>sub_grade</th>\n",
       "      <th>emp_length</th>\n",
       "      <th>home_ownership</th>\n",
       "      <th>annual_inc</th>\n",
       "      <th>verification_status</th>\n",
       "      <th>loan_status</th>\n",
       "      <th>purpose</th>\n",
       "      <th>title</th>\n",
       "      <th>addr_state</th>\n",
       "      <th>dti</th>\n",
       "      <th>total_rec_int</th>\n",
       "    </tr>\n",
       "  </thead>\n",
       "  <tbody>\n",
       "    <tr>\n",
       "      <th>0</th>\n",
       "      <td>33000</td>\n",
       "      <td>33000</td>\n",
       "      <td>33000</td>\n",
       "      <td>36 months</td>\n",
       "      <td>0.0721</td>\n",
       "      <td>1022.12</td>\n",
       "      <td>A</td>\n",
       "      <td>A3</td>\n",
       "      <td>&lt; 1 year</td>\n",
       "      <td>MORTGAGE</td>\n",
       "      <td>107000.0</td>\n",
       "      <td>Verified</td>\n",
       "      <td>Current</td>\n",
       "      <td>debt_consolidation</td>\n",
       "      <td>Debt consolidation</td>\n",
       "      <td>TX</td>\n",
       "      <td>19.06</td>\n",
       "      <td>915.14</td>\n",
       "    </tr>\n",
       "    <tr>\n",
       "      <th>1</th>\n",
       "      <td>40000</td>\n",
       "      <td>40000</td>\n",
       "      <td>40000</td>\n",
       "      <td>60 months</td>\n",
       "      <td>0.1505</td>\n",
       "      <td>952.65</td>\n",
       "      <td>C</td>\n",
       "      <td>C4</td>\n",
       "      <td>9 years</td>\n",
       "      <td>MORTGAGE</td>\n",
       "      <td>120000.0</td>\n",
       "      <td>Verified</td>\n",
       "      <td>Current</td>\n",
       "      <td>debt_consolidation</td>\n",
       "      <td>Debt consolidation</td>\n",
       "      <td>TX</td>\n",
       "      <td>31.11</td>\n",
       "      <td>2384.17</td>\n",
       "    </tr>\n",
       "    <tr>\n",
       "      <th>2</th>\n",
       "      <td>12000</td>\n",
       "      <td>12000</td>\n",
       "      <td>12000</td>\n",
       "      <td>36 months</td>\n",
       "      <td>0.0797</td>\n",
       "      <td>375.88</td>\n",
       "      <td>A</td>\n",
       "      <td>A5</td>\n",
       "      <td>10+ years</td>\n",
       "      <td>OWN</td>\n",
       "      <td>42000.0</td>\n",
       "      <td>Source Verified</td>\n",
       "      <td>Current</td>\n",
       "      <td>debt_consolidation</td>\n",
       "      <td>Debt consolidation</td>\n",
       "      <td>CA</td>\n",
       "      <td>27.74</td>\n",
       "      <td>386.66</td>\n",
       "    </tr>\n",
       "  </tbody>\n",
       "</table>\n",
       "</div>"
      ],
      "text/plain": [
       "   loan_amnt  funded_amnt  funded_amnt_inv        term  int_rate  installment  \\\n",
       "0      33000        33000            33000   36 months    0.0721      1022.12   \n",
       "1      40000        40000            40000   60 months    0.1505       952.65   \n",
       "2      12000        12000            12000   36 months    0.0797       375.88   \n",
       "\n",
       "  grade sub_grade emp_length home_ownership  annual_inc verification_status  \\\n",
       "0     A        A3   < 1 year       MORTGAGE    107000.0            Verified   \n",
       "1     C        C4    9 years       MORTGAGE    120000.0            Verified   \n",
       "2     A        A5  10+ years            OWN     42000.0     Source Verified   \n",
       "\n",
       "  loan_status             purpose               title addr_state    dti  \\\n",
       "0     Current  debt_consolidation  Debt consolidation         TX  19.06   \n",
       "1     Current  debt_consolidation  Debt consolidation         TX  31.11   \n",
       "2     Current  debt_consolidation  Debt consolidation         CA  27.74   \n",
       "\n",
       "   total_rec_int  \n",
       "0         915.14  \n",
       "1        2384.17  \n",
       "2         386.66  "
      ]
     },
     "execution_count": 15,
     "metadata": {},
     "output_type": "execute_result"
    }
   ],
   "source": [
    "def get_graph(metric):\n",
    "    Loan.groupby(metric)['int_rate'].mean().plot(kind='bar')\n",
    "    plt.xticks(rotation='horizontal')\n",
    "Loan.head(3)"
   ]
  },
  {
   "cell_type": "code",
   "execution_count": 17,
   "metadata": {
    "collapsed": false
   },
   "outputs": [
    {
     "data": {
      "image/png": "[encoded data removed]",
      "text/plain": [
       "<matplotlib.figure.Figure at 0x132f32b0>"
      ]
     },
     "metadata": {},
     "output_type": "display_data"
    }
   ],
   "source": [
    "get_graph('grade')"
   ]
  },
  {
   "cell_type": "code",
   "execution_count": 16,
   "metadata": {
    "collapsed": false
   },
   "outputs": [
    {
     "data": {
      "image/png": "[encoded data removed]",
      "text/plain": [
       "<matplotlib.figure.Figure at 0x1266fcf8>"
      ]
     },
     "metadata": {},
     "output_type": "display_data"
    }
   ],
   "source": [
    "get_graph('home_ownership')"
   ]
  },
  {
   "cell_type": "code",
   "execution_count": 18,
   "metadata": {
    "collapsed": false
   },
   "outputs": [
    {
     "name": "stdout",
     "output_type": "stream",
     "text": [
      "addr_state\n",
      "ND    24.518780\n",
      "OK    24.207101\n",
      "UT    22.450874\n",
      "SD    21.120909\n",
      "WY    20.374103\n",
      "Name: dti, dtype: float64\n",
      "addr_state\n",
      "DC    13.183167\n",
      "NY    15.028636\n",
      "CA    15.415889\n",
      "RI    15.530444\n",
      "MA    15.545396\n",
      "Name: dti, dtype: float64\n"
     ]
    }
   ],
   "source": [
    "Loan2 = Loan[(Loan.grade == 'A') & (Loan.term == ' 36 months')].copy().reset_index(drop=True)\n",
    "print Loan2.groupby('addr_state')['dti'].mean().sort_values(ascending=False).head(5)\n",
    "print Loan2.groupby('addr_state')['dti'].mean().sort_values().head(5)"
   ]
  }
 ],
 "metadata": {
  "anaconda-cloud": {},
  "kernelspec": {
   "display_name": "Python [default]",
   "language": "python",
   "name": "python2"
  },
  "language_info": {
   "codemirror_mode": {
    "name": "ipython",
    "version": 2
   },
   "file_extension": ".py",
   "mimetype": "text/x-python",
   "name": "python",
   "nbconvert_exporter": "python",
   "pygments_lexer": "ipython2",
   "version": "2.7.12"
  }
 },
 "nbformat": 4,
 "nbformat_minor": 1
}
